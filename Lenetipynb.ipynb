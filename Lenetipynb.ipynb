{
  "nbformat": 4,
  "nbformat_minor": 0,
  "metadata": {
    "colab": {
      "name": "Lenetipynb",
      "provenance": []
    },
    "kernelspec": {
      "name": "python3",
      "display_name": "Python 3"
    },
    "language_info": {
      "name": "python"
    }
  },
  "cells": [
    {
      "cell_type": "code",
      "execution_count": 2,
      "metadata": {
        "colab": {
          "base_uri": "https://localhost:8080/"
        },
        "id": "f0zBCTYuAdhV",
        "outputId": "d8e173ed-94d6-4d46-c690-649579b465bc"
      },
      "outputs": [
        {
          "output_type": "stream",
          "name": "stdout",
          "text": [
            "Downloading data from https://storage.googleapis.com/tensorflow/tf-keras-datasets/mnist.npz\n",
            "11493376/11490434 [==============================] - 0s 0us/step\n",
            "11501568/11490434 [==============================] - 0s 0us/step\n"
          ]
        }
      ],
      "source": [
        "import keras\n",
        "\n",
        "from keras.datasets import mnist\n",
        "from keras.layers import Conv2D,MaxPooling2D\n",
        "from keras.layers import Dense,Flatten\n",
        "from keras.models import Sequential\n",
        "\n",
        "(x_train,y_train),(x_test,y_test)=mnist.load_data()\n",
        "x_train=x_train.reshape(x_train.shape[0],28,28,1)\n",
        "x_test=x_test.reshape(x_test.shape[0],28,28,1)\n",
        "\n",
        "x_train=x_train/255\n",
        "x_test=x_test/255\n",
        "\n",
        "\n"
      ]
    },
    {
      "cell_type": "code",
      "source": [
        "from keras.utils import np_utils"
      ],
      "metadata": {
        "id": "7icUEQ_wJY-2"
      },
      "execution_count": 3,
      "outputs": []
    },
    {
      "cell_type": "code",
      "source": [
        ""
      ],
      "metadata": {
        "id": "0Kod6RsXJZN0"
      },
      "execution_count": null,
      "outputs": []
    },
    {
      "cell_type": "code",
      "source": [
        "y_train = keras.utils.np_utils.to_categorical(y_train,10)\n",
        "y_test = keras.utils.np_utils.to_categorical(y_test,10)\n",
        "\n",
        "model=Sequential()\n",
        "model.add(Conv2D(6,kernel_size=(5,5), activation='relu', input_shape=(28,28,1)))\n",
        "model.add(MaxPooling2D(pool_size=(2,2)))\n",
        "model.add(Conv2D(16,kernel_size=(5,5),activation='relu'))\n",
        "model.add(MaxPooling2D(pool_size=(2,2)))\n",
        "model.add(Flatten())\n",
        "model.add(Dense(120,activation='relu'))\n",
        "model.add(Dense(84,activation='relu'))\n",
        "model.add(Dense(10,activation='softmax'))"
      ],
      "metadata": {
        "id": "qvO-vugrJCeq"
      },
      "execution_count": 4,
      "outputs": []
    },
    {
      "cell_type": "code",
      "source": [
        "model.summary()"
      ],
      "metadata": {
        "colab": {
          "base_uri": "https://localhost:8080/"
        },
        "id": "5h7NQRPpJr7n",
        "outputId": "0d279f21-fb4d-4a21-b220-8b47fcf775fb"
      },
      "execution_count": 5,
      "outputs": [
        {
          "output_type": "stream",
          "name": "stdout",
          "text": [
            "Model: \"sequential\"\n",
            "_________________________________________________________________\n",
            " Layer (type)                Output Shape              Param #   \n",
            "=================================================================\n",
            " conv2d (Conv2D)             (None, 24, 24, 6)         156       \n",
            "                                                                 \n",
            " max_pooling2d (MaxPooling2D  (None, 12, 12, 6)        0         \n",
            " )                                                               \n",
            "                                                                 \n",
            " conv2d_1 (Conv2D)           (None, 8, 8, 16)          2416      \n",
            "                                                                 \n",
            " max_pooling2d_1 (MaxPooling  (None, 4, 4, 16)         0         \n",
            " 2D)                                                             \n",
            "                                                                 \n",
            " flatten (Flatten)           (None, 256)               0         \n",
            "                                                                 \n",
            " dense (Dense)               (None, 120)               30840     \n",
            "                                                                 \n",
            " dense_1 (Dense)             (None, 84)                10164     \n",
            "                                                                 \n",
            " dense_2 (Dense)             (None, 10)                850       \n",
            "                                                                 \n",
            "=================================================================\n",
            "Total params: 44,426\n",
            "Trainable params: 44,426\n",
            "Non-trainable params: 0\n",
            "_________________________________________________________________\n"
          ]
        }
      ]
    },
    {
      "cell_type": "code",
      "source": [
        "import tensorflow\n",
        "model.compile(loss=keras.metrics.categorical_crossentropy, optimizer='adam', \n",
        "              metrics=['accuracy'])\n",
        "model.fit(x_train, y_train, batch_size=128, epochs=20, verbose=1, validation_data=(x_test, y_test))\n",
        "score = model.evaluate(x_test, y_test)\n",
        "print('Test Loss:', score[0])\n",
        "print('Test accuracy:', score[1])"
      ],
      "metadata": {
        "colab": {
          "base_uri": "https://localhost:8080/"
        },
        "id": "FIJWPE9jJsGl",
        "outputId": "b7bbd7a3-32e9-4750-d48b-662d9d62aacb"
      },
      "execution_count": 6,
      "outputs": [
        {
          "output_type": "stream",
          "name": "stdout",
          "text": [
            "Epoch 1/20\n",
            "469/469 [==============================] - 25s 52ms/step - loss: 0.3144 - accuracy: 0.9061 - val_loss: 0.0877 - val_accuracy: 0.9724\n",
            "Epoch 2/20\n",
            "469/469 [==============================] - 24s 50ms/step - loss: 0.0863 - accuracy: 0.9734 - val_loss: 0.0557 - val_accuracy: 0.9815\n",
            "Epoch 3/20\n",
            "469/469 [==============================] - 25s 54ms/step - loss: 0.0632 - accuracy: 0.9801 - val_loss: 0.0545 - val_accuracy: 0.9808\n",
            "Epoch 4/20\n",
            "469/469 [==============================] - 24s 51ms/step - loss: 0.0507 - accuracy: 0.9845 - val_loss: 0.0434 - val_accuracy: 0.9864\n",
            "Epoch 5/20\n",
            "469/469 [==============================] - 24s 51ms/step - loss: 0.0429 - accuracy: 0.9864 - val_loss: 0.0349 - val_accuracy: 0.9890\n",
            "Epoch 6/20\n",
            "469/469 [==============================] - 24s 50ms/step - loss: 0.0352 - accuracy: 0.9887 - val_loss: 0.0396 - val_accuracy: 0.9875\n",
            "Epoch 7/20\n",
            "469/469 [==============================] - 25s 54ms/step - loss: 0.0327 - accuracy: 0.9897 - val_loss: 0.0354 - val_accuracy: 0.9883\n",
            "Epoch 8/20\n",
            "469/469 [==============================] - 25s 52ms/step - loss: 0.0274 - accuracy: 0.9914 - val_loss: 0.0356 - val_accuracy: 0.9881\n",
            "Epoch 9/20\n",
            "469/469 [==============================] - 25s 52ms/step - loss: 0.0239 - accuracy: 0.9922 - val_loss: 0.0344 - val_accuracy: 0.9882\n",
            "Epoch 10/20\n",
            "469/469 [==============================] - 25s 52ms/step - loss: 0.0213 - accuracy: 0.9930 - val_loss: 0.0336 - val_accuracy: 0.9897\n",
            "Epoch 11/20\n",
            "469/469 [==============================] - 24s 51ms/step - loss: 0.0188 - accuracy: 0.9938 - val_loss: 0.0261 - val_accuracy: 0.9919\n",
            "Epoch 12/20\n",
            "469/469 [==============================] - 24s 51ms/step - loss: 0.0161 - accuracy: 0.9945 - val_loss: 0.0348 - val_accuracy: 0.9909\n",
            "Epoch 13/20\n",
            "469/469 [==============================] - 24s 51ms/step - loss: 0.0152 - accuracy: 0.9950 - val_loss: 0.0364 - val_accuracy: 0.9891\n",
            "Epoch 14/20\n",
            "469/469 [==============================] - 25s 54ms/step - loss: 0.0141 - accuracy: 0.9955 - val_loss: 0.0321 - val_accuracy: 0.9903\n",
            "Epoch 15/20\n",
            "469/469 [==============================] - 25s 54ms/step - loss: 0.0126 - accuracy: 0.9956 - val_loss: 0.0399 - val_accuracy: 0.9884\n",
            "Epoch 16/20\n",
            "469/469 [==============================] - 24s 52ms/step - loss: 0.0106 - accuracy: 0.9965 - val_loss: 0.0461 - val_accuracy: 0.9877\n",
            "Epoch 17/20\n",
            "469/469 [==============================] - 25s 54ms/step - loss: 0.0105 - accuracy: 0.9963 - val_loss: 0.0405 - val_accuracy: 0.9896\n",
            "Epoch 18/20\n",
            "469/469 [==============================] - 24s 52ms/step - loss: 0.0098 - accuracy: 0.9967 - val_loss: 0.0350 - val_accuracy: 0.9910\n",
            "Epoch 19/20\n",
            "469/469 [==============================] - 27s 57ms/step - loss: 0.0094 - accuracy: 0.9968 - val_loss: 0.0454 - val_accuracy: 0.9880\n",
            "Epoch 20/20\n",
            "469/469 [==============================] - 25s 54ms/step - loss: 0.0083 - accuracy: 0.9972 - val_loss: 0.0409 - val_accuracy: 0.9898\n",
            "313/313 [==============================] - 3s 8ms/step - loss: 0.0409 - accuracy: 0.9898\n",
            "Test Loss: 0.04088390991091728\n",
            "Test accuracy: 0.989799976348877\n"
          ]
        }
      ]
    },
    {
      "cell_type": "code",
      "source": [
        ""
      ],
      "metadata": {
        "id": "FGqI1FMuJsL6"
      },
      "execution_count": null,
      "outputs": []
    },
    {
      "cell_type": "code",
      "source": [
        ""
      ],
      "metadata": {
        "id": "-F-6P_eMJsQG"
      },
      "execution_count": null,
      "outputs": []
    },
    {
      "cell_type": "code",
      "source": [
        ""
      ],
      "metadata": {
        "id": "dKt00UqTJsSw"
      },
      "execution_count": null,
      "outputs": []
    }
  ]
}