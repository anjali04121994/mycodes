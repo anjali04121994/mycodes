{
 "cells": [
  {
   "cell_type": "code",
   "execution_count": 1,
   "id": "42fdf2c7",
   "metadata": {},
   "outputs": [],
   "source": [
    "import os\n",
    "import numpy as np \n",
    "import pandas as pd\n",
    "import matplotlib.pyplot as plt\n",
    "%matplotlib inline\n",
    "import seaborn as sns\n",
    "import warnings\n",
    "warnings.filterwarnings('ignore')\n"
   ]
  },
  {
   "cell_type": "code",
   "execution_count": 2,
   "id": "8e8c8b2f",
   "metadata": {},
   "outputs": [],
   "source": [
    "diabet=pd.read_csv('M4_Diabetes.csv')"
   ]
  },
  {
   "cell_type": "code",
   "execution_count": 3,
   "id": "be6dc298",
   "metadata": {},
   "outputs": [
    {
     "data": {
      "text/html": [
       "<div>\n",
       "<style scoped>\n",
       "    .dataframe tbody tr th:only-of-type {\n",
       "        vertical-align: middle;\n",
       "    }\n",
       "\n",
       "    .dataframe tbody tr th {\n",
       "        vertical-align: top;\n",
       "    }\n",
       "\n",
       "    .dataframe thead th {\n",
       "        text-align: right;\n",
       "    }\n",
       "</style>\n",
       "<table border=\"1\" class=\"dataframe\">\n",
       "  <thead>\n",
       "    <tr style=\"text-align: right;\">\n",
       "      <th></th>\n",
       "      <th>No.of_times_pregnant</th>\n",
       "      <th>glucose_conc</th>\n",
       "      <th>blood_pressure</th>\n",
       "      <th>skin_fold_thickness</th>\n",
       "      <th>2-Hour_serum_insulin</th>\n",
       "      <th>BMI</th>\n",
       "      <th>Diabetes_pedigree_fn</th>\n",
       "      <th>Age</th>\n",
       "      <th>Is_Diabetic</th>\n",
       "    </tr>\n",
       "  </thead>\n",
       "  <tbody>\n",
       "    <tr>\n",
       "      <th>0</th>\n",
       "      <td>6</td>\n",
       "      <td>148</td>\n",
       "      <td>72</td>\n",
       "      <td>35</td>\n",
       "      <td>0</td>\n",
       "      <td>33.6</td>\n",
       "      <td>0.627</td>\n",
       "      <td>50</td>\n",
       "      <td>YES</td>\n",
       "    </tr>\n",
       "    <tr>\n",
       "      <th>1</th>\n",
       "      <td>1</td>\n",
       "      <td>85</td>\n",
       "      <td>66</td>\n",
       "      <td>29</td>\n",
       "      <td>0</td>\n",
       "      <td>26.6</td>\n",
       "      <td>0.351</td>\n",
       "      <td>31</td>\n",
       "      <td>NO</td>\n",
       "    </tr>\n",
       "    <tr>\n",
       "      <th>2</th>\n",
       "      <td>8</td>\n",
       "      <td>183</td>\n",
       "      <td>64</td>\n",
       "      <td>0</td>\n",
       "      <td>0</td>\n",
       "      <td>23.3</td>\n",
       "      <td>0.672</td>\n",
       "      <td>32</td>\n",
       "      <td>YES</td>\n",
       "    </tr>\n",
       "    <tr>\n",
       "      <th>3</th>\n",
       "      <td>1</td>\n",
       "      <td>89</td>\n",
       "      <td>66</td>\n",
       "      <td>23</td>\n",
       "      <td>94</td>\n",
       "      <td>28.1</td>\n",
       "      <td>0.167</td>\n",
       "      <td>21</td>\n",
       "      <td>NO</td>\n",
       "    </tr>\n",
       "    <tr>\n",
       "      <th>4</th>\n",
       "      <td>0</td>\n",
       "      <td>137</td>\n",
       "      <td>40</td>\n",
       "      <td>35</td>\n",
       "      <td>168</td>\n",
       "      <td>43.1</td>\n",
       "      <td>2.288</td>\n",
       "      <td>33</td>\n",
       "      <td>YES</td>\n",
       "    </tr>\n",
       "  </tbody>\n",
       "</table>\n",
       "</div>"
      ],
      "text/plain": [
       "    No.of_times_pregnant  glucose_conc  blood_pressure  skin_fold_thickness  \\\n",
       "0                      6           148              72                   35   \n",
       "1                      1            85              66                   29   \n",
       "2                      8           183              64                    0   \n",
       "3                      1            89              66                   23   \n",
       "4                      0           137              40                   35   \n",
       "\n",
       "   2-Hour_serum_insulin   BMI  Diabetes_pedigree_fn  Age Is_Diabetic  \n",
       "0                     0  33.6                 0.627   50         YES  \n",
       "1                     0  26.6                 0.351   31          NO  \n",
       "2                     0  23.3                 0.672   32         YES  \n",
       "3                    94  28.1                 0.167   21          NO  \n",
       "4                   168  43.1                 2.288   33         YES  "
      ]
     },
     "execution_count": 3,
     "metadata": {},
     "output_type": "execute_result"
    }
   ],
   "source": [
    "diabet.head()"
   ]
  },
  {
   "cell_type": "code",
   "execution_count": 17,
   "id": "b80f8a2f",
   "metadata": {},
   "outputs": [
    {
     "name": "stdout",
     "output_type": "stream",
     "text": [
      "<class 'pandas.core.frame.DataFrame'>\n",
      "RangeIndex: 768 entries, 0 to 767\n",
      "Data columns (total 9 columns):\n",
      " #   Column                 Non-Null Count  Dtype  \n",
      "---  ------                 --------------  -----  \n",
      " 0    No.of_times_pregnant  768 non-null    int64  \n",
      " 1   glucose_conc           768 non-null    int64  \n",
      " 2   blood_pressure         768 non-null    int64  \n",
      " 3   skin_fold_thickness    768 non-null    int64  \n",
      " 4   2-Hour_serum_insulin   768 non-null    int64  \n",
      " 5   BMI                    768 non-null    float64\n",
      " 6   Diabetes_pedigree_fn   768 non-null    float64\n",
      " 7   Age                    768 non-null    int64  \n",
      " 8   Is_Diabetic            768 non-null    object \n",
      "dtypes: float64(2), int64(6), object(1)\n",
      "memory usage: 54.1+ KB\n"
     ]
    }
   ],
   "source": [
    "diabet.info()"
   ]
  },
  {
   "cell_type": "code",
   "execution_count": null,
   "id": "9e1d93df",
   "metadata": {},
   "outputs": [],
   "source": [
    "#Here we cannot drop the variables as most of the variables are signoficant since its clinical dataset."
   ]
  },
  {
   "cell_type": "code",
   "execution_count": 4,
   "id": "6774cda1",
   "metadata": {
    "scrolled": true
   },
   "outputs": [
    {
     "data": {
      "text/plain": [
       " No.of_times_pregnant    0\n",
       "glucose_conc             0\n",
       "blood_pressure           0\n",
       "skin_fold_thickness      0\n",
       "2-Hour_serum_insulin     0\n",
       "BMI                      0\n",
       "Diabetes_pedigree_fn     0\n",
       "Age                      0\n",
       "Is_Diabetic              0\n",
       "dtype: int64"
      ]
     },
     "execution_count": 4,
     "metadata": {},
     "output_type": "execute_result"
    }
   ],
   "source": [
    "#Preprocessing\n",
    "#1).Missing Values\n",
    "diabet.isnull().sum()"
   ]
  },
  {
   "cell_type": "code",
   "execution_count": null,
   "id": "1af7e35e",
   "metadata": {},
   "outputs": [],
   "source": [
    "#No missing values.But please check some values will be 0 so we need to handle it so checking for minimum and maximium values for e\n",
    "#each variable"
   ]
  },
  {
   "cell_type": "code",
   "execution_count": 20,
   "id": "aab191b3",
   "metadata": {},
   "outputs": [
    {
     "name": "stdout",
     "output_type": "stream",
     "text": [
      "glucose_conc: 0.6510416666666667\n",
      "blood_pressure: 4.557291666666666\n",
      "skin_fold_thickness: 29.557291666666668\n",
      "2-Hour_serum_insulin 48.69791666666667\n",
      "BMI 1.4322916666666665\n"
     ]
    }
   ],
   "source": [
    "#Checking for how many zeroes are there in each variable,if number of zeroes more than 25% zeroes then drop it\n",
    "print('glucose_conc:',(diabet['glucose_conc'].value_counts()[0]/768)*100)\n",
    "print('blood_pressure:',(diabet['blood_pressure'].value_counts()[0]/768)*100)\n",
    "print('skin_fold_thickness:',(diabet['skin_fold_thickness'].value_counts()[0]/768)*100)\n",
    "print('2-Hour_serum_insulin',(diabet['2-Hour_serum_insulin'].value_counts()[0]/768)*100)\n",
    "print('BMI',(diabet['BMI'].value_counts()[0]/768)*100)"
   ]
  },
  {
   "cell_type": "code",
   "execution_count": 21,
   "id": "82905b8c",
   "metadata": {},
   "outputs": [],
   "source": [
    "#So drop skin_fold_thickness and 2-Hour_serum_insulin\n",
    "diabet.drop(['skin_fold_thickness','2-Hour_serum_insulin'],inplace=True,axis=1)"
   ]
  },
  {
   "cell_type": "code",
   "execution_count": 22,
   "id": "497e1173",
   "metadata": {},
   "outputs": [
    {
     "data": {
      "text/html": [
       "<div>\n",
       "<style scoped>\n",
       "    .dataframe tbody tr th:only-of-type {\n",
       "        vertical-align: middle;\n",
       "    }\n",
       "\n",
       "    .dataframe tbody tr th {\n",
       "        vertical-align: top;\n",
       "    }\n",
       "\n",
       "    .dataframe thead th {\n",
       "        text-align: right;\n",
       "    }\n",
       "</style>\n",
       "<table border=\"1\" class=\"dataframe\">\n",
       "  <thead>\n",
       "    <tr style=\"text-align: right;\">\n",
       "      <th></th>\n",
       "      <th>No.of_times_pregnant</th>\n",
       "      <th>glucose_conc</th>\n",
       "      <th>blood_pressure</th>\n",
       "      <th>BMI</th>\n",
       "      <th>Diabetes_pedigree_fn</th>\n",
       "      <th>Age</th>\n",
       "    </tr>\n",
       "  </thead>\n",
       "  <tbody>\n",
       "    <tr>\n",
       "      <th>count</th>\n",
       "      <td>768.000000</td>\n",
       "      <td>768.000000</td>\n",
       "      <td>768.000000</td>\n",
       "      <td>768.000000</td>\n",
       "      <td>768.000000</td>\n",
       "      <td>768.000000</td>\n",
       "    </tr>\n",
       "    <tr>\n",
       "      <th>mean</th>\n",
       "      <td>3.845052</td>\n",
       "      <td>120.894531</td>\n",
       "      <td>69.105469</td>\n",
       "      <td>31.992578</td>\n",
       "      <td>0.471876</td>\n",
       "      <td>33.240885</td>\n",
       "    </tr>\n",
       "    <tr>\n",
       "      <th>std</th>\n",
       "      <td>3.369578</td>\n",
       "      <td>31.972618</td>\n",
       "      <td>19.355807</td>\n",
       "      <td>7.884160</td>\n",
       "      <td>0.331329</td>\n",
       "      <td>11.760232</td>\n",
       "    </tr>\n",
       "    <tr>\n",
       "      <th>min</th>\n",
       "      <td>0.000000</td>\n",
       "      <td>0.000000</td>\n",
       "      <td>0.000000</td>\n",
       "      <td>0.000000</td>\n",
       "      <td>0.078000</td>\n",
       "      <td>21.000000</td>\n",
       "    </tr>\n",
       "    <tr>\n",
       "      <th>25%</th>\n",
       "      <td>1.000000</td>\n",
       "      <td>99.000000</td>\n",
       "      <td>62.000000</td>\n",
       "      <td>27.300000</td>\n",
       "      <td>0.243750</td>\n",
       "      <td>24.000000</td>\n",
       "    </tr>\n",
       "    <tr>\n",
       "      <th>50%</th>\n",
       "      <td>3.000000</td>\n",
       "      <td>117.000000</td>\n",
       "      <td>72.000000</td>\n",
       "      <td>32.000000</td>\n",
       "      <td>0.372500</td>\n",
       "      <td>29.000000</td>\n",
       "    </tr>\n",
       "    <tr>\n",
       "      <th>75%</th>\n",
       "      <td>6.000000</td>\n",
       "      <td>140.250000</td>\n",
       "      <td>80.000000</td>\n",
       "      <td>36.600000</td>\n",
       "      <td>0.626250</td>\n",
       "      <td>41.000000</td>\n",
       "    </tr>\n",
       "    <tr>\n",
       "      <th>max</th>\n",
       "      <td>17.000000</td>\n",
       "      <td>199.000000</td>\n",
       "      <td>122.000000</td>\n",
       "      <td>67.100000</td>\n",
       "      <td>2.420000</td>\n",
       "      <td>81.000000</td>\n",
       "    </tr>\n",
       "  </tbody>\n",
       "</table>\n",
       "</div>"
      ],
      "text/plain": [
       "        No.of_times_pregnant  glucose_conc  blood_pressure         BMI  \\\n",
       "count             768.000000    768.000000      768.000000  768.000000   \n",
       "mean                3.845052    120.894531       69.105469   31.992578   \n",
       "std                 3.369578     31.972618       19.355807    7.884160   \n",
       "min                 0.000000      0.000000        0.000000    0.000000   \n",
       "25%                 1.000000     99.000000       62.000000   27.300000   \n",
       "50%                 3.000000    117.000000       72.000000   32.000000   \n",
       "75%                 6.000000    140.250000       80.000000   36.600000   \n",
       "max                17.000000    199.000000      122.000000   67.100000   \n",
       "\n",
       "       Diabetes_pedigree_fn         Age  \n",
       "count            768.000000  768.000000  \n",
       "mean               0.471876   33.240885  \n",
       "std                0.331329   11.760232  \n",
       "min                0.078000   21.000000  \n",
       "25%                0.243750   24.000000  \n",
       "50%                0.372500   29.000000  \n",
       "75%                0.626250   41.000000  \n",
       "max                2.420000   81.000000  "
      ]
     },
     "execution_count": 22,
     "metadata": {},
     "output_type": "execute_result"
    }
   ],
   "source": [
    "diabet.describe()"
   ]
  },
  {
   "cell_type": "code",
   "execution_count": null,
   "id": "e78df04f",
   "metadata": {},
   "outputs": [],
   "source": [
    "#So most of the variables it minimum value is 0.So handle it"
   ]
  },
  {
   "cell_type": "code",
   "execution_count": 23,
   "id": "114ee841",
   "metadata": {},
   "outputs": [],
   "source": [
    "diabet['glucose_conc']=np.where(diabet['glucose_conc']==0,diabet['glucose_conc'].median(),diabet['glucose_conc'])#if we have not checked the outlier part its better to go with median rather than mean"
   ]
  },
  {
   "cell_type": "code",
   "execution_count": 24,
   "id": "5492f26a",
   "metadata": {},
   "outputs": [],
   "source": [
    "diabet['blood_pressure']=np.where(diabet['blood_pressure']==0,diabet['blood_pressure'].median(),diabet['blood_pressure'])"
   ]
  },
  {
   "cell_type": "code",
   "execution_count": 9,
   "id": "72a163b7",
   "metadata": {},
   "outputs": [],
   "source": [
    "#diabet['skin_fold_thickness']=np.where(diabet['skin_fold_thickness']==0,diabet['skin_fold_thickness'].median(),diabet['skin_fold_thickness'])"
   ]
  },
  {
   "cell_type": "code",
   "execution_count": 10,
   "id": "42e0baf4",
   "metadata": {},
   "outputs": [],
   "source": [
    "#diabet['2-Hour_serum_insulin']=np.where(diabet['2-Hour_serum_insulin']==0,diabet['2-Hour_serum_insulin'].median(),diabet['2-Hour_serum_insulin'])"
   ]
  },
  {
   "cell_type": "code",
   "execution_count": 25,
   "id": "05bfa856",
   "metadata": {},
   "outputs": [],
   "source": [
    "diabet['BMI']=np.where(diabet['BMI']==0,diabet['BMI'].median(),diabet['BMI'])"
   ]
  },
  {
   "cell_type": "code",
   "execution_count": 26,
   "id": "5ddb930d",
   "metadata": {},
   "outputs": [
    {
     "data": {
      "text/html": [
       "<div>\n",
       "<style scoped>\n",
       "    .dataframe tbody tr th:only-of-type {\n",
       "        vertical-align: middle;\n",
       "    }\n",
       "\n",
       "    .dataframe tbody tr th {\n",
       "        vertical-align: top;\n",
       "    }\n",
       "\n",
       "    .dataframe thead th {\n",
       "        text-align: right;\n",
       "    }\n",
       "</style>\n",
       "<table border=\"1\" class=\"dataframe\">\n",
       "  <thead>\n",
       "    <tr style=\"text-align: right;\">\n",
       "      <th></th>\n",
       "      <th>No.of_times_pregnant</th>\n",
       "      <th>glucose_conc</th>\n",
       "      <th>blood_pressure</th>\n",
       "      <th>BMI</th>\n",
       "      <th>Diabetes_pedigree_fn</th>\n",
       "      <th>Age</th>\n",
       "    </tr>\n",
       "  </thead>\n",
       "  <tbody>\n",
       "    <tr>\n",
       "      <th>count</th>\n",
       "      <td>768.000000</td>\n",
       "      <td>768.000000</td>\n",
       "      <td>768.000000</td>\n",
       "      <td>768.000000</td>\n",
       "      <td>768.000000</td>\n",
       "      <td>768.000000</td>\n",
       "    </tr>\n",
       "    <tr>\n",
       "      <th>mean</th>\n",
       "      <td>3.845052</td>\n",
       "      <td>121.656250</td>\n",
       "      <td>72.386719</td>\n",
       "      <td>32.450911</td>\n",
       "      <td>0.471876</td>\n",
       "      <td>33.240885</td>\n",
       "    </tr>\n",
       "    <tr>\n",
       "      <th>std</th>\n",
       "      <td>3.369578</td>\n",
       "      <td>30.438286</td>\n",
       "      <td>12.096642</td>\n",
       "      <td>6.875366</td>\n",
       "      <td>0.331329</td>\n",
       "      <td>11.760232</td>\n",
       "    </tr>\n",
       "    <tr>\n",
       "      <th>min</th>\n",
       "      <td>0.000000</td>\n",
       "      <td>44.000000</td>\n",
       "      <td>24.000000</td>\n",
       "      <td>18.200000</td>\n",
       "      <td>0.078000</td>\n",
       "      <td>21.000000</td>\n",
       "    </tr>\n",
       "    <tr>\n",
       "      <th>25%</th>\n",
       "      <td>1.000000</td>\n",
       "      <td>99.750000</td>\n",
       "      <td>64.000000</td>\n",
       "      <td>27.500000</td>\n",
       "      <td>0.243750</td>\n",
       "      <td>24.000000</td>\n",
       "    </tr>\n",
       "    <tr>\n",
       "      <th>50%</th>\n",
       "      <td>3.000000</td>\n",
       "      <td>117.000000</td>\n",
       "      <td>72.000000</td>\n",
       "      <td>32.000000</td>\n",
       "      <td>0.372500</td>\n",
       "      <td>29.000000</td>\n",
       "    </tr>\n",
       "    <tr>\n",
       "      <th>75%</th>\n",
       "      <td>6.000000</td>\n",
       "      <td>140.250000</td>\n",
       "      <td>80.000000</td>\n",
       "      <td>36.600000</td>\n",
       "      <td>0.626250</td>\n",
       "      <td>41.000000</td>\n",
       "    </tr>\n",
       "    <tr>\n",
       "      <th>max</th>\n",
       "      <td>17.000000</td>\n",
       "      <td>199.000000</td>\n",
       "      <td>122.000000</td>\n",
       "      <td>67.100000</td>\n",
       "      <td>2.420000</td>\n",
       "      <td>81.000000</td>\n",
       "    </tr>\n",
       "  </tbody>\n",
       "</table>\n",
       "</div>"
      ],
      "text/plain": [
       "        No.of_times_pregnant  glucose_conc  blood_pressure         BMI  \\\n",
       "count             768.000000    768.000000      768.000000  768.000000   \n",
       "mean                3.845052    121.656250       72.386719   32.450911   \n",
       "std                 3.369578     30.438286       12.096642    6.875366   \n",
       "min                 0.000000     44.000000       24.000000   18.200000   \n",
       "25%                 1.000000     99.750000       64.000000   27.500000   \n",
       "50%                 3.000000    117.000000       72.000000   32.000000   \n",
       "75%                 6.000000    140.250000       80.000000   36.600000   \n",
       "max                17.000000    199.000000      122.000000   67.100000   \n",
       "\n",
       "       Diabetes_pedigree_fn         Age  \n",
       "count            768.000000  768.000000  \n",
       "mean               0.471876   33.240885  \n",
       "std                0.331329   11.760232  \n",
       "min                0.078000   21.000000  \n",
       "25%                0.243750   24.000000  \n",
       "50%                0.372500   29.000000  \n",
       "75%                0.626250   41.000000  \n",
       "max                2.420000   81.000000  "
      ]
     },
     "execution_count": 26,
     "metadata": {},
     "output_type": "execute_result"
    }
   ],
   "source": [
    "diabet.describe()"
   ]
  },
  {
   "cell_type": "code",
   "execution_count": null,
   "id": "36da6302",
   "metadata": {},
   "outputs": [],
   "source": []
  },
  {
   "cell_type": "code",
   "execution_count": 5,
   "id": "59cb58c3",
   "metadata": {},
   "outputs": [
    {
     "name": "stdout",
     "output_type": "stream",
     "text": [
      "<class 'pandas.core.frame.DataFrame'>\n",
      "RangeIndex: 768 entries, 0 to 767\n",
      "Data columns (total 9 columns):\n",
      " #   Column                 Non-Null Count  Dtype  \n",
      "---  ------                 --------------  -----  \n",
      " 0    No.of_times_pregnant  768 non-null    int64  \n",
      " 1   glucose_conc           768 non-null    int64  \n",
      " 2   blood_pressure         768 non-null    int64  \n",
      " 3   skin_fold_thickness    768 non-null    int64  \n",
      " 4   2-Hour_serum_insulin   768 non-null    int64  \n",
      " 5   BMI                    768 non-null    float64\n",
      " 6   Diabetes_pedigree_fn   768 non-null    float64\n",
      " 7   Age                    768 non-null    int64  \n",
      " 8   Is_Diabetic            768 non-null    object \n",
      "dtypes: float64(2), int64(6), object(1)\n",
      "memory usage: 54.1+ KB\n"
     ]
    }
   ],
   "source": [
    "#Encoding\n",
    "diabet.info()"
   ]
  },
  {
   "cell_type": "code",
   "execution_count": null,
   "id": "04e21e65",
   "metadata": {},
   "outputs": [],
   "source": [
    "#Only Is_Diabetic colum is an object ,and it is the dependent variable converting to numeric values using label encoder"
   ]
  },
  {
   "cell_type": "code",
   "execution_count": 27,
   "id": "3bcd8828",
   "metadata": {},
   "outputs": [],
   "source": [
    "#Label Encoding\n",
    "diabet['Is_Diabetic']=diabet['Is_Diabetic'].astype('category')\n",
    "diabet['Is_Diabetic']=diabet['Is_Diabetic'].cat.codes"
   ]
  },
  {
   "cell_type": "code",
   "execution_count": 28,
   "id": "ba3b6bc2",
   "metadata": {},
   "outputs": [
    {
     "data": {
      "text/html": [
       "<div>\n",
       "<style scoped>\n",
       "    .dataframe tbody tr th:only-of-type {\n",
       "        vertical-align: middle;\n",
       "    }\n",
       "\n",
       "    .dataframe tbody tr th {\n",
       "        vertical-align: top;\n",
       "    }\n",
       "\n",
       "    .dataframe thead th {\n",
       "        text-align: right;\n",
       "    }\n",
       "</style>\n",
       "<table border=\"1\" class=\"dataframe\">\n",
       "  <thead>\n",
       "    <tr style=\"text-align: right;\">\n",
       "      <th></th>\n",
       "      <th>No.of_times_pregnant</th>\n",
       "      <th>glucose_conc</th>\n",
       "      <th>blood_pressure</th>\n",
       "      <th>BMI</th>\n",
       "      <th>Diabetes_pedigree_fn</th>\n",
       "      <th>Age</th>\n",
       "      <th>Is_Diabetic</th>\n",
       "    </tr>\n",
       "  </thead>\n",
       "  <tbody>\n",
       "    <tr>\n",
       "      <th>0</th>\n",
       "      <td>6</td>\n",
       "      <td>148.0</td>\n",
       "      <td>72.0</td>\n",
       "      <td>33.6</td>\n",
       "      <td>0.627</td>\n",
       "      <td>50</td>\n",
       "      <td>1</td>\n",
       "    </tr>\n",
       "    <tr>\n",
       "      <th>1</th>\n",
       "      <td>1</td>\n",
       "      <td>85.0</td>\n",
       "      <td>66.0</td>\n",
       "      <td>26.6</td>\n",
       "      <td>0.351</td>\n",
       "      <td>31</td>\n",
       "      <td>0</td>\n",
       "    </tr>\n",
       "    <tr>\n",
       "      <th>2</th>\n",
       "      <td>8</td>\n",
       "      <td>183.0</td>\n",
       "      <td>64.0</td>\n",
       "      <td>23.3</td>\n",
       "      <td>0.672</td>\n",
       "      <td>32</td>\n",
       "      <td>1</td>\n",
       "    </tr>\n",
       "    <tr>\n",
       "      <th>3</th>\n",
       "      <td>1</td>\n",
       "      <td>89.0</td>\n",
       "      <td>66.0</td>\n",
       "      <td>28.1</td>\n",
       "      <td>0.167</td>\n",
       "      <td>21</td>\n",
       "      <td>0</td>\n",
       "    </tr>\n",
       "    <tr>\n",
       "      <th>4</th>\n",
       "      <td>0</td>\n",
       "      <td>137.0</td>\n",
       "      <td>40.0</td>\n",
       "      <td>43.1</td>\n",
       "      <td>2.288</td>\n",
       "      <td>33</td>\n",
       "      <td>1</td>\n",
       "    </tr>\n",
       "  </tbody>\n",
       "</table>\n",
       "</div>"
      ],
      "text/plain": [
       "    No.of_times_pregnant  glucose_conc  blood_pressure   BMI  \\\n",
       "0                      6         148.0            72.0  33.6   \n",
       "1                      1          85.0            66.0  26.6   \n",
       "2                      8         183.0            64.0  23.3   \n",
       "3                      1          89.0            66.0  28.1   \n",
       "4                      0         137.0            40.0  43.1   \n",
       "\n",
       "   Diabetes_pedigree_fn  Age  Is_Diabetic  \n",
       "0                 0.627   50            1  \n",
       "1                 0.351   31            0  \n",
       "2                 0.672   32            1  \n",
       "3                 0.167   21            0  \n",
       "4                 2.288   33            1  "
      ]
     },
     "execution_count": 28,
     "metadata": {},
     "output_type": "execute_result"
    }
   ],
   "source": [
    "diabet.head()"
   ]
  },
  {
   "cell_type": "code",
   "execution_count": null,
   "id": "c4b7471d",
   "metadata": {},
   "outputs": [],
   "source": [
    "#It's a classification problem so no need to handle outlier and so no feature scaling(if we want we can do feature scaling but not outlier treatment)"
   ]
  },
  {
   "cell_type": "code",
   "execution_count": 36,
   "id": "6e56229e",
   "metadata": {},
   "outputs": [
    {
     "data": {
      "text/plain": [
       "0    500\n",
       "1    268\n",
       "Name: Is_Diabetic, dtype: int64"
      ]
     },
     "execution_count": 36,
     "metadata": {},
     "output_type": "execute_result"
    }
   ],
   "source": [
    "#3)Imbalance Dataset\n",
    "diabet['Is_Diabetic'].value_counts()"
   ]
  },
  {
   "cell_type": "code",
   "execution_count": null,
   "id": "4d5a0456",
   "metadata": {},
   "outputs": [],
   "source": [
    "#We have balanced dataset as majority class is nopt >= 2* minority class"
   ]
  },
  {
   "cell_type": "code",
   "execution_count": 37,
   "id": "812cc442",
   "metadata": {},
   "outputs": [],
   "source": [
    "#Split the data intodependent and independent\n",
    "x=diabet.iloc[:,0:6]\n",
    "y=diabet.iloc[:,-1]"
   ]
  },
  {
   "cell_type": "code",
   "execution_count": 38,
   "id": "b605c928",
   "metadata": {},
   "outputs": [
    {
     "data": {
      "text/html": [
       "<div>\n",
       "<style scoped>\n",
       "    .dataframe tbody tr th:only-of-type {\n",
       "        vertical-align: middle;\n",
       "    }\n",
       "\n",
       "    .dataframe tbody tr th {\n",
       "        vertical-align: top;\n",
       "    }\n",
       "\n",
       "    .dataframe thead th {\n",
       "        text-align: right;\n",
       "    }\n",
       "</style>\n",
       "<table border=\"1\" class=\"dataframe\">\n",
       "  <thead>\n",
       "    <tr style=\"text-align: right;\">\n",
       "      <th></th>\n",
       "      <th>No.of_times_pregnant</th>\n",
       "      <th>glucose_conc</th>\n",
       "      <th>blood_pressure</th>\n",
       "      <th>BMI</th>\n",
       "      <th>Diabetes_pedigree_fn</th>\n",
       "      <th>Age</th>\n",
       "    </tr>\n",
       "  </thead>\n",
       "  <tbody>\n",
       "    <tr>\n",
       "      <th>0</th>\n",
       "      <td>6</td>\n",
       "      <td>148.0</td>\n",
       "      <td>72.0</td>\n",
       "      <td>33.6</td>\n",
       "      <td>0.627</td>\n",
       "      <td>50</td>\n",
       "    </tr>\n",
       "    <tr>\n",
       "      <th>1</th>\n",
       "      <td>1</td>\n",
       "      <td>85.0</td>\n",
       "      <td>66.0</td>\n",
       "      <td>26.6</td>\n",
       "      <td>0.351</td>\n",
       "      <td>31</td>\n",
       "    </tr>\n",
       "    <tr>\n",
       "      <th>2</th>\n",
       "      <td>8</td>\n",
       "      <td>183.0</td>\n",
       "      <td>64.0</td>\n",
       "      <td>23.3</td>\n",
       "      <td>0.672</td>\n",
       "      <td>32</td>\n",
       "    </tr>\n",
       "    <tr>\n",
       "      <th>3</th>\n",
       "      <td>1</td>\n",
       "      <td>89.0</td>\n",
       "      <td>66.0</td>\n",
       "      <td>28.1</td>\n",
       "      <td>0.167</td>\n",
       "      <td>21</td>\n",
       "    </tr>\n",
       "    <tr>\n",
       "      <th>4</th>\n",
       "      <td>0</td>\n",
       "      <td>137.0</td>\n",
       "      <td>40.0</td>\n",
       "      <td>43.1</td>\n",
       "      <td>2.288</td>\n",
       "      <td>33</td>\n",
       "    </tr>\n",
       "  </tbody>\n",
       "</table>\n",
       "</div>"
      ],
      "text/plain": [
       "    No.of_times_pregnant  glucose_conc  blood_pressure   BMI  \\\n",
       "0                      6         148.0            72.0  33.6   \n",
       "1                      1          85.0            66.0  26.6   \n",
       "2                      8         183.0            64.0  23.3   \n",
       "3                      1          89.0            66.0  28.1   \n",
       "4                      0         137.0            40.0  43.1   \n",
       "\n",
       "   Diabetes_pedigree_fn  Age  \n",
       "0                 0.627   50  \n",
       "1                 0.351   31  \n",
       "2                 0.672   32  \n",
       "3                 0.167   21  \n",
       "4                 2.288   33  "
      ]
     },
     "execution_count": 38,
     "metadata": {},
     "output_type": "execute_result"
    }
   ],
   "source": [
    "x.head()"
   ]
  },
  {
   "cell_type": "code",
   "execution_count": 39,
   "id": "87bfddcd",
   "metadata": {},
   "outputs": [
    {
     "data": {
      "text/plain": [
       "0    1\n",
       "1    0\n",
       "2    1\n",
       "3    0\n",
       "4    1\n",
       "Name: Is_Diabetic, dtype: int8"
      ]
     },
     "execution_count": 39,
     "metadata": {},
     "output_type": "execute_result"
    }
   ],
   "source": [
    "y.head()"
   ]
  },
  {
   "cell_type": "code",
   "execution_count": 40,
   "id": "631278a2",
   "metadata": {},
   "outputs": [],
   "source": [
    "#Splitting data into train and test\n",
    "from sklearn.model_selection import train_test_split\n",
    "x_train,x_test,y_train,y_test=train_test_split(x,y,train_size=0.75,random_state=101)"
   ]
  },
  {
   "cell_type": "code",
   "execution_count": 42,
   "id": "327dcd41",
   "metadata": {},
   "outputs": [
    {
     "name": "stdout",
     "output_type": "stream",
     "text": [
      "(576, 6)\n",
      "(576,)\n",
      "(192, 6)\n",
      "(192,)\n"
     ]
    }
   ],
   "source": [
    "print(x_train.shape)\n",
    "print(y_train.shape)\n",
    "print(x_test.shape)\n",
    "print(y_test.shape)"
   ]
  },
  {
   "cell_type": "code",
   "execution_count": 43,
   "id": "861de18b",
   "metadata": {},
   "outputs": [
    {
     "data": {
      "text/plain": [
       "LogisticRegression()"
      ]
     },
     "execution_count": 43,
     "metadata": {},
     "output_type": "execute_result"
    }
   ],
   "source": [
    "#Logistic Regression Model\n",
    "from sklearn.linear_model import LogisticRegression\n",
    "lr=LogisticRegression()\n",
    "lr.fit(x_train,y_train)"
   ]
  },
  {
   "cell_type": "code",
   "execution_count": 44,
   "id": "10eace55",
   "metadata": {},
   "outputs": [],
   "source": [
    "y_pred_lr_train=lr.predict(x_train)\n",
    "y_pred_lr_test=lr.predict(x_test)"
   ]
  },
  {
   "cell_type": "code",
   "execution_count": 45,
   "id": "f7964014",
   "metadata": {},
   "outputs": [],
   "source": [
    "#Checking the Model\n",
    "from sklearn.metrics import classification_report,confusion_matrix,accuracy_score\n"
   ]
  },
  {
   "cell_type": "code",
   "execution_count": 46,
   "id": "204e1fcd",
   "metadata": {},
   "outputs": [
    {
     "name": "stdout",
     "output_type": "stream",
     "text": [
      "              precision    recall  f1-score   support\n",
      "\n",
      "           0       0.79      0.88      0.83       376\n",
      "           1       0.72      0.56      0.63       200\n",
      "\n",
      "    accuracy                           0.77       576\n",
      "   macro avg       0.75      0.72      0.73       576\n",
      "weighted avg       0.77      0.77      0.76       576\n",
      "\n",
      "################################################################################\n",
      "              precision    recall  f1-score   support\n",
      "\n",
      "           0       0.79      0.86      0.83       124\n",
      "           1       0.70      0.59      0.64        68\n",
      "\n",
      "    accuracy                           0.77       192\n",
      "   macro avg       0.75      0.73      0.73       192\n",
      "weighted avg       0.76      0.77      0.76       192\n",
      "\n"
     ]
    }
   ],
   "source": [
    "print(classification_report(y_train,y_pred_lr_train))\n",
    "print('####'*20)\n",
    "print(classification_report(y_test,y_pred_lr_test))"
   ]
  },
  {
   "cell_type": "code",
   "execution_count": 47,
   "id": "0e41f3a2",
   "metadata": {},
   "outputs": [
    {
     "name": "stdout",
     "output_type": "stream",
     "text": [
      "[[332  44]\n",
      " [ 88 112]]\n",
      "################################################################################\n",
      "[[107  17]\n",
      " [ 28  40]]\n"
     ]
    }
   ],
   "source": [
    "print(confusion_matrix(y_train,y_pred_lr_train))\n",
    "print('####'*20)\n",
    "print(confusion_matrix(y_test,y_pred_lr_test))"
   ]
  },
  {
   "cell_type": "code",
   "execution_count": 48,
   "id": "e1e8f1bc",
   "metadata": {},
   "outputs": [
    {
     "name": "stdout",
     "output_type": "stream",
     "text": [
      "0.7708333333333334\n",
      "################################################################################\n",
      "0.765625\n"
     ]
    }
   ],
   "source": [
    "print(accuracy_score(y_train,y_pred_lr_train))\n",
    "print('####'*20)\n",
    "print(accuracy_score(y_test,y_pred_lr_test))"
   ]
  },
  {
   "cell_type": "code",
   "execution_count": null,
   "id": "21815249",
   "metadata": {},
   "outputs": [],
   "source": []
  },
  {
   "cell_type": "code",
   "execution_count": 49,
   "id": "413cc825",
   "metadata": {},
   "outputs": [
    {
     "data": {
      "text/plain": [
       "DecisionTreeClassifier()"
      ]
     },
     "execution_count": 49,
     "metadata": {},
     "output_type": "execute_result"
    }
   ],
   "source": [
    "#Decision Tree Model\n",
    "from sklearn.tree import DecisionTreeClassifier\n",
    "dt=DecisionTreeClassifier()\n",
    "dt.fit(x_train,y_train)"
   ]
  },
  {
   "cell_type": "code",
   "execution_count": 50,
   "id": "a929c0fc",
   "metadata": {},
   "outputs": [],
   "source": [
    "y_pred_dt_train=dt.predict(x_train)\n",
    "y_pred_dt_test=dt.predict(x_test)"
   ]
  },
  {
   "cell_type": "code",
   "execution_count": 51,
   "id": "0691f8af",
   "metadata": {},
   "outputs": [
    {
     "name": "stdout",
     "output_type": "stream",
     "text": [
      "1.0\n",
      "################################################################################\n",
      "0.7083333333333334\n"
     ]
    }
   ],
   "source": [
    "#Checking the model\n",
    "print(accuracy_score(y_train,y_pred_dt_train))\n",
    "print('####'*20)\n",
    "print(accuracy_score(y_test,y_pred_dt_test))"
   ]
  },
  {
   "cell_type": "code",
   "execution_count": null,
   "id": "b511afb0",
   "metadata": {},
   "outputs": [],
   "source": []
  },
  {
   "cell_type": "code",
   "execution_count": null,
   "id": "fabef13e",
   "metadata": {},
   "outputs": [],
   "source": [
    "#Bagging Model"
   ]
  },
  {
   "cell_type": "code",
   "execution_count": 52,
   "id": "21cc2caa",
   "metadata": {},
   "outputs": [
    {
     "data": {
      "text/plain": [
       "BaggingClassifier()"
      ]
     },
     "execution_count": 52,
     "metadata": {},
     "output_type": "execute_result"
    }
   ],
   "source": [
    "from sklearn.ensemble import BaggingClassifier\n",
    "bg=BaggingClassifier()\n",
    "bg.fit(x_train,y_train)"
   ]
  },
  {
   "cell_type": "code",
   "execution_count": 53,
   "id": "550eda8d",
   "metadata": {},
   "outputs": [],
   "source": [
    "y_pred_bg_train=bg.predict(x_train)\n",
    "y_pred_bg_test=bg.predict(x_test)"
   ]
  },
  {
   "cell_type": "code",
   "execution_count": 54,
   "id": "e226277a",
   "metadata": {},
   "outputs": [
    {
     "name": "stdout",
     "output_type": "stream",
     "text": [
      "0.9791666666666666\n",
      "################################################################################\n",
      "0.7864583333333334\n"
     ]
    }
   ],
   "source": [
    "#Checking the model\n",
    "print(accuracy_score(y_train,y_pred_bg_train))\n",
    "print('####'*20)\n",
    "print(accuracy_score(y_test,y_pred_bg_test))"
   ]
  },
  {
   "cell_type": "code",
   "execution_count": null,
   "id": "f188a217",
   "metadata": {},
   "outputs": [],
   "source": []
  },
  {
   "cell_type": "code",
   "execution_count": 63,
   "id": "6bda6b9f",
   "metadata": {},
   "outputs": [
    {
     "data": {
      "text/plain": [
       "RandomForestClassifier(criterion='entropy', n_estimators=500, random_state=101)"
      ]
     },
     "execution_count": 63,
     "metadata": {},
     "output_type": "execute_result"
    }
   ],
   "source": [
    "#Random Forest Model\n",
    "from sklearn.ensemble import RandomForestClassifier\n",
    "rf=RandomForestClassifier(n_estimators=500,criterion='entropy',random_state=101)\n",
    "rf.fit(x_train,y_train)"
   ]
  },
  {
   "cell_type": "code",
   "execution_count": 64,
   "id": "9f5112e5",
   "metadata": {},
   "outputs": [],
   "source": [
    "y_pred_rf_train=rf.predict(x_train)\n",
    "y_pred_rf_test=rf.predict(x_test)"
   ]
  },
  {
   "cell_type": "code",
   "execution_count": 65,
   "id": "6567d106",
   "metadata": {},
   "outputs": [
    {
     "name": "stdout",
     "output_type": "stream",
     "text": [
      "1.0\n",
      "################################################################################\n",
      "0.78125\n"
     ]
    }
   ],
   "source": [
    "#Checking the model\n",
    "print(accuracy_score(y_train,y_pred_rf_train))\n",
    "print('####'*20)\n",
    "print(accuracy_score(y_test,y_pred_rf_test))"
   ]
  },
  {
   "cell_type": "code",
   "execution_count": null,
   "id": "177ae59d",
   "metadata": {},
   "outputs": [],
   "source": [
    "#Variance more than 15 is there so overfit in RF ,so use cross validation to improve model to improve test accuracy\n"
   ]
  },
  {
   "cell_type": "code",
   "execution_count": 66,
   "id": "5cd60064",
   "metadata": {},
   "outputs": [
    {
     "name": "stdout",
     "output_type": "stream",
     "text": [
      "[0.84615385 0.69230769 0.53846154 0.61538462 0.84615385 0.76923077\n",
      " 0.69230769 0.38461538 0.92307692 0.84615385 0.61538462 0.69230769\n",
      " 0.91666667 0.75       0.75      ]\n"
     ]
    }
   ],
   "source": [
    "from sklearn.model_selection import cross_val_score\n",
    "accuracy=cross_val_score(rf,x_test,y_test,cv=15)\n",
    "print(accuracy)"
   ]
  },
  {
   "cell_type": "code",
   "execution_count": null,
   "id": "4fb663c4",
   "metadata": {},
   "outputs": [],
   "source": [
    "#Still accuracy is not that imrproving even after adding n_estimators,criterion in RF and changing the cv value from 10 to 15\n",
    "#So try to do for both train and test"
   ]
  },
  {
   "cell_type": "code",
   "execution_count": 67,
   "id": "7f588e07",
   "metadata": {},
   "outputs": [
    {
     "name": "stdout",
     "output_type": "stream",
     "text": [
      "[0.79487179 0.69230769 0.64102564 0.82051282 0.69230769 0.69230769\n",
      " 0.78947368 0.89473684 0.86842105 0.81578947 0.63157895 0.81578947\n",
      " 0.65789474 0.65789474 0.84210526]\n",
      "############################################################\n",
      "[0.84615385 0.69230769 0.53846154 0.61538462 0.84615385 0.76923077\n",
      " 0.69230769 0.38461538 0.92307692 0.84615385 0.61538462 0.69230769\n",
      " 0.91666667 0.75       0.75      ]\n"
     ]
    }
   ],
   "source": [
    "from sklearn.model_selection import cross_val_score\n",
    "accuracy1=cross_val_score(rf,x_train,y_train,cv=15)\n",
    "accuracy2=cross_val_score(rf,x_test,y_test,cv=15)\n",
    "print(accuracy1)\n",
    "print('###'*20)\n",
    "print(accuracy2)"
   ]
  },
  {
   "cell_type": "code",
   "execution_count": null,
   "id": "8e386cbe",
   "metadata": {},
   "outputs": [],
   "source": [
    "#Fine with the accuracy still checking with Gradient Boosting"
   ]
  },
  {
   "cell_type": "code",
   "execution_count": null,
   "id": "4267ad62",
   "metadata": {},
   "outputs": [],
   "source": [
    "#Gradient Boosting"
   ]
  },
  {
   "cell_type": "code",
   "execution_count": 69,
   "id": "ab4809d9",
   "metadata": {},
   "outputs": [
    {
     "data": {
      "text/plain": [
       "GradientBoostingClassifier()"
      ]
     },
     "execution_count": 69,
     "metadata": {},
     "output_type": "execute_result"
    }
   ],
   "source": [
    "from sklearn.ensemble import GradientBoostingClassifier\n",
    "gdb=GradientBoostingClassifier()\n",
    "gdb.fit(x_train,y_train)"
   ]
  },
  {
   "cell_type": "code",
   "execution_count": 70,
   "id": "5674ac01",
   "metadata": {},
   "outputs": [],
   "source": [
    "y_pred_gdb_train=gdb.predict(x_train)\n",
    "y_pred_gdb_test=gdb.predict(x_test)"
   ]
  },
  {
   "cell_type": "code",
   "execution_count": 71,
   "id": "b2cd197a",
   "metadata": {},
   "outputs": [
    {
     "name": "stdout",
     "output_type": "stream",
     "text": [
      "0.9305555555555556\n",
      "################################################################################\n",
      "0.7916666666666666\n"
     ]
    }
   ],
   "source": [
    "#Checking the model\n",
    "print(accuracy_score(y_train,y_pred_gdb_train))\n",
    "print('####'*20)\n",
    "print(accuracy_score(y_test,y_pred_gdb_test))"
   ]
  },
  {
   "cell_type": "code",
   "execution_count": null,
   "id": "3f220a1f",
   "metadata": {},
   "outputs": [],
   "source": [
    "#No problem in Bias but still high Variance"
   ]
  },
  {
   "cell_type": "code",
   "execution_count": null,
   "id": "8393be4a",
   "metadata": {},
   "outputs": [],
   "source": []
  },
  {
   "cell_type": "code",
   "execution_count": null,
   "id": "437d5982",
   "metadata": {},
   "outputs": [],
   "source": [
    "#Ada Boosting Classifier"
   ]
  },
  {
   "cell_type": "code",
   "execution_count": 72,
   "id": "47f10070",
   "metadata": {},
   "outputs": [
    {
     "data": {
      "text/plain": [
       "AdaBoostClassifier()"
      ]
     },
     "execution_count": 72,
     "metadata": {},
     "output_type": "execute_result"
    }
   ],
   "source": [
    "from sklearn.ensemble import AdaBoostClassifier\n",
    "ada=AdaBoostClassifier()\n",
    "ada.fit(x_train,y_train)"
   ]
  },
  {
   "cell_type": "code",
   "execution_count": 73,
   "id": "3ad0201d",
   "metadata": {},
   "outputs": [],
   "source": [
    "y_pred_ada_train=ada.predict(x_train)\n",
    "y_pred_ada_test=ada.predict(x_test)"
   ]
  },
  {
   "cell_type": "code",
   "execution_count": 74,
   "id": "6cf85635",
   "metadata": {},
   "outputs": [
    {
     "name": "stdout",
     "output_type": "stream",
     "text": [
      "0.828125\n",
      "################################################################################\n",
      "0.7604166666666666\n"
     ]
    }
   ],
   "source": [
    "#Checking the model\n",
    "print(accuracy_score(y_train,y_pred_ada_train))\n",
    "print('####'*20)\n",
    "print(accuracy_score(y_test,y_pred_ada_test))"
   ]
  },
  {
   "cell_type": "code",
   "execution_count": null,
   "id": "88682de4",
   "metadata": {},
   "outputs": [],
   "source": []
  },
  {
   "cell_type": "code",
   "execution_count": null,
   "id": "d164278a",
   "metadata": {},
   "outputs": [],
   "source": [
    "#XGBoost"
   ]
  },
  {
   "cell_type": "code",
   "execution_count": 75,
   "id": "efa76db4",
   "metadata": {},
   "outputs": [
    {
     "name": "stdout",
     "output_type": "stream",
     "text": [
      "Collecting xgboost\n",
      "  Downloading xgboost-1.6.1-py3-none-win_amd64.whl (125.4 MB)\n",
      "Requirement already satisfied: numpy in c:\\users\\amp\\anaconda3\\lib\\site-packages (from xgboost) (1.20.3)\n",
      "Requirement already satisfied: scipy in c:\\users\\amp\\anaconda3\\lib\\site-packages (from xgboost) (1.7.1)\n",
      "Installing collected packages: xgboost\n",
      "Successfully installed xgboost-1.6.1\n"
     ]
    }
   ],
   "source": [
    "!pip install xgboost"
   ]
  },
  {
   "cell_type": "code",
   "execution_count": 76,
   "id": "d1bf71d6",
   "metadata": {},
   "outputs": [
    {
     "data": {
      "text/plain": [
       "XGBClassifier(base_score=0.5, booster='gbtree', callbacks=None,\n",
       "              colsample_bylevel=1, colsample_bynode=1, colsample_bytree=1,\n",
       "              early_stopping_rounds=None, enable_categorical=False,\n",
       "              eval_metric=None, gamma=0, gpu_id=-1, grow_policy='depthwise',\n",
       "              importance_type=None, interaction_constraints='',\n",
       "              learning_rate=0.300000012, max_bin=256, max_cat_to_onehot=4,\n",
       "              max_delta_step=0, max_depth=6, max_leaves=0, min_child_weight=1,\n",
       "              missing=nan, monotone_constraints='()', n_estimators=100,\n",
       "              n_jobs=0, num_parallel_tree=1, predictor='auto', random_state=0,\n",
       "              reg_alpha=0, reg_lambda=1, ...)"
      ]
     },
     "execution_count": 76,
     "metadata": {},
     "output_type": "execute_result"
    }
   ],
   "source": [
    "from xgboost import XGBClassifier\n",
    "xgb=XGBClassifier()\n",
    "xgb.fit(x_train,y_train)"
   ]
  },
  {
   "cell_type": "code",
   "execution_count": 77,
   "id": "64e51916",
   "metadata": {},
   "outputs": [],
   "source": [
    "y_pred_xgb_train=xgb.predict(x_train)\n",
    "y_pred_xgb_test=xgb.predict(x_test)"
   ]
  },
  {
   "cell_type": "code",
   "execution_count": 78,
   "id": "d90cb9f3",
   "metadata": {},
   "outputs": [
    {
     "name": "stdout",
     "output_type": "stream",
     "text": [
      "1.0\n",
      "################################################################################\n",
      "0.78125\n"
     ]
    }
   ],
   "source": [
    "#Checking the model\n",
    "print(accuracy_score(y_train,y_pred_xgb_train))\n",
    "print('####'*20)\n",
    "print(accuracy_score(y_test,y_pred_xgb_test))"
   ]
  },
  {
   "cell_type": "code",
   "execution_count": null,
   "id": "7a39d669",
   "metadata": {},
   "outputs": [],
   "source": [
    "#Hign Variance but no Bias.Boosting is dedicated for High Bias"
   ]
  },
  {
   "cell_type": "code",
   "execution_count": null,
   "id": "4bb887ba",
   "metadata": {},
   "outputs": [],
   "source": [
    "#KNN-Clinical data to be done with KNN"
   ]
  },
  {
   "cell_type": "code",
   "execution_count": 79,
   "id": "25772313",
   "metadata": {},
   "outputs": [
    {
     "data": {
      "text/plain": [
       "KNeighborsClassifier()"
      ]
     },
     "execution_count": 79,
     "metadata": {},
     "output_type": "execute_result"
    }
   ],
   "source": [
    "from sklearn.neighbors import KNeighborsClassifier\n",
    "knn=KNeighborsClassifier()\n",
    "knn.fit(x_train,y_train)"
   ]
  },
  {
   "cell_type": "code",
   "execution_count": 80,
   "id": "e280588d",
   "metadata": {},
   "outputs": [],
   "source": [
    "y_pred_knn_train=knn.predict(x_train)\n",
    "y_pred_knn_test=knn.predict(x_test)"
   ]
  },
  {
   "cell_type": "code",
   "execution_count": 81,
   "id": "65388595",
   "metadata": {},
   "outputs": [
    {
     "name": "stdout",
     "output_type": "stream",
     "text": [
      "0.8194444444444444\n",
      "################################################################################\n",
      "0.7291666666666666\n"
     ]
    }
   ],
   "source": [
    "#Checking the model\n",
    "print(accuracy_score(y_train,y_pred_knn_train))\n",
    "print('####'*20)\n",
    "print(accuracy_score(y_test,y_pred_knn_test))"
   ]
  },
  {
   "cell_type": "code",
   "execution_count": null,
   "id": "e175ac6d",
   "metadata": {},
   "outputs": [],
   "source": [
    "#High Variance is not there"
   ]
  },
  {
   "cell_type": "code",
   "execution_count": null,
   "id": "80b14840",
   "metadata": {},
   "outputs": [],
   "source": []
  }
 ],
 "metadata": {
  "kernelspec": {
   "display_name": "Python 3 (ipykernel)",
   "language": "python",
   "name": "python3"
  },
  "language_info": {
   "codemirror_mode": {
    "name": "ipython",
    "version": 3
   },
   "file_extension": ".py",
   "mimetype": "text/x-python",
   "name": "python",
   "nbconvert_exporter": "python",
   "pygments_lexer": "ipython3",
   "version": "3.9.7"
  }
 },
 "nbformat": 4,
 "nbformat_minor": 5
}
