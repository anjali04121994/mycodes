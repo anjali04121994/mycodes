{
 "cells": [
  {
   "cell_type": "code",
   "execution_count": 2,
   "id": "83242926",
   "metadata": {},
   "outputs": [
    {
     "data": {
      "text/plain": [
       "'C:\\\\Users\\\\AMP\\\\Desktop\\\\DL and NLP\\\\NLP'"
      ]
     },
     "execution_count": 2,
     "metadata": {},
     "output_type": "execute_result"
    }
   ],
   "source": [
    "import os\n",
    "os.getcwd()"
   ]
  },
  {
   "cell_type": "code",
   "execution_count": 5,
   "id": "6997b5bb",
   "metadata": {},
   "outputs": [
    {
     "name": "stdout",
     "output_type": "stream",
     "text": [
      "Collecting gTTS\n",
      "  Downloading gTTS-2.2.4-py3-none-any.whl (26 kB)\n",
      "Requirement already satisfied: requests in c:\\users\\amp\\anaconda3\\lib\\site-packages (from gTTS) (2.26.0)\n",
      "Requirement already satisfied: click in c:\\users\\amp\\anaconda3\\lib\\site-packages (from gTTS) (8.0.3)\n",
      "Requirement already satisfied: six in c:\\users\\amp\\anaconda3\\lib\\site-packages (from gTTS) (1.16.0)\n",
      "Requirement already satisfied: colorama in c:\\users\\amp\\anaconda3\\lib\\site-packages (from click->gTTS) (0.4.4)\n",
      "Requirement already satisfied: urllib3<1.27,>=1.21.1 in c:\\users\\amp\\anaconda3\\lib\\site-packages (from requests->gTTS) (1.26.7)\n",
      "Requirement already satisfied: certifi>=2017.4.17 in c:\\users\\amp\\anaconda3\\lib\\site-packages (from requests->gTTS) (2021.10.8)\n",
      "Requirement already satisfied: idna<4,>=2.5 in c:\\users\\amp\\anaconda3\\lib\\site-packages (from requests->gTTS) (3.2)\n",
      "Requirement already satisfied: charset-normalizer~=2.0.0 in c:\\users\\amp\\anaconda3\\lib\\site-packages (from requests->gTTS) (2.0.4)\n",
      "Installing collected packages: gTTS\n",
      "Successfully installed gTTS-2.2.4\n"
     ]
    }
   ],
   "source": [
    "!pip install gTTS "
   ]
  },
  {
   "cell_type": "code",
   "execution_count": null,
   "id": "54df3ae3",
   "metadata": {},
   "outputs": [],
   "source": [
    "#google text to speech\n"
   ]
  },
  {
   "cell_type": "code",
   "execution_count": 6,
   "id": "dd3ad196",
   "metadata": {},
   "outputs": [],
   "source": [
    "from gtts import gTTS"
   ]
  },
  {
   "cell_type": "code",
   "execution_count": 7,
   "id": "f0869034",
   "metadata": {},
   "outputs": [
    {
     "name": "stdout",
     "output_type": "stream",
     "text": [
      "Enter your paragraph: \n",
      ">Union Minister for Agriculture and Farmers Welfare Shobha Karandlaje participated in the programme. Belur MLA K.S.Lingesh, Pushpagiri Mutt seer Somashekhar Shivacharya and district officers, students, and local people attended the programme.\n"
     ]
    }
   ],
   "source": [
    "paragraph=input(\"Enter your paragraph: \\n>\")"
   ]
  },
  {
   "cell_type": "code",
   "execution_count": 8,
   "id": "136fedbe",
   "metadata": {},
   "outputs": [],
   "source": [
    "sentence=gTTS(text=paragraph,lang='en',slow=False)\n"
   ]
  },
  {
   "cell_type": "code",
   "execution_count": 9,
   "id": "dad1ea3b",
   "metadata": {},
   "outputs": [],
   "source": [
    "sentence.save(\"english.mp3\")"
   ]
  },
  {
   "cell_type": "code",
   "execution_count": null,
   "id": "b8736e65",
   "metadata": {},
   "outputs": [],
   "source": []
  },
  {
   "cell_type": "code",
   "execution_count": null,
   "id": "473e9627",
   "metadata": {},
   "outputs": [],
   "source": []
  },
  {
   "cell_type": "code",
   "execution_count": 11,
   "id": "5c8028e9",
   "metadata": {},
   "outputs": [
    {
     "name": "stdout",
     "output_type": "stream",
     "text": [
      "Enter your paragraph: \n",
      ">വിദ്യാഭാസത്തിന്ന് എല്ലാവര്‍ക്കും അവകാശമുണ്ട്‌. എലിമെണ്ടറി വിദ്യാഭ്യാസമെങ്കിലും സൌജന്യമായിരിക്കേണ്ടതാണ്‌. എലിമെണ്ടറി വിദ്യാഭ്യാസം നിര്‍ബന്ധമായിരിക്കേണ്ടതുമാണ്‌. സാങ്കേതിക വിദ്യാഭ്യാസം പൊതുവായി സിദ്ധിക്കത്തക്ക നിലക്കും ഉപരിവിദ്യാഭ്യാസം യോഗ്യതക്കനുസരിച്ചു എല്ലാവര്‍ക്കും തുല്യമായി പ്രവേശനമുള്ള നിലക്കുമായിരിക്കേണ്ടതാണ്‌.\n"
     ]
    }
   ],
   "source": [
    "paragraph1=input(\"Enter your paragraph: \\n>\")"
   ]
  },
  {
   "cell_type": "code",
   "execution_count": 17,
   "id": "fe5a1cee",
   "metadata": {},
   "outputs": [],
   "source": [
    "sentence1=gTTS(text=paragraph1,lang='ml',slow=False)"
   ]
  },
  {
   "cell_type": "code",
   "execution_count": 18,
   "id": "c8631428",
   "metadata": {},
   "outputs": [],
   "source": [
    "sentence1.save(\"malayalam.mp3\")"
   ]
  },
  {
   "cell_type": "code",
   "execution_count": null,
   "id": "751392ad",
   "metadata": {},
   "outputs": [],
   "source": []
  }
 ],
 "metadata": {
  "kernelspec": {
   "display_name": "Python 3 (ipykernel)",
   "language": "python",
   "name": "python3"
  },
  "language_info": {
   "codemirror_mode": {
    "name": "ipython",
    "version": 3
   },
   "file_extension": ".py",
   "mimetype": "text/x-python",
   "name": "python",
   "nbconvert_exporter": "python",
   "pygments_lexer": "ipython3",
   "version": "3.9.7"
  }
 },
 "nbformat": 4,
 "nbformat_minor": 5
}
