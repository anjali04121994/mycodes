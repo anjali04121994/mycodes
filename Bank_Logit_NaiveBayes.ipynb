{
 "cells": [
  {
   "cell_type": "code",
   "execution_count": 2,
   "id": "5112eade",
   "metadata": {},
   "outputs": [],
   "source": [
    "#importing basic packages\n",
    "import os\n",
    "import numpy as np\n",
    "import pandas as pd\n",
    "import matplotlib.pyplot as plt\n",
    "import seaborn as sns\n",
    "%matplotlib inline\n",
    "import warnings\n",
    "warnings.filterwarnings('ignore')"
   ]
  },
  {
   "cell_type": "code",
   "execution_count": 3,
   "id": "ff45b292",
   "metadata": {},
   "outputs": [],
   "source": [
    "bank=pd.read_csv('Bank-data.csv')"
   ]
  },
  {
   "cell_type": "code",
   "execution_count": 4,
   "id": "d7de0a56",
   "metadata": {},
   "outputs": [
    {
     "data": {
      "text/html": [
       "<div>\n",
       "<style scoped>\n",
       "    .dataframe tbody tr th:only-of-type {\n",
       "        vertical-align: middle;\n",
       "    }\n",
       "\n",
       "    .dataframe tbody tr th {\n",
       "        vertical-align: top;\n",
       "    }\n",
       "\n",
       "    .dataframe thead th {\n",
       "        text-align: right;\n",
       "    }\n",
       "</style>\n",
       "<table border=\"1\" class=\"dataframe\">\n",
       "  <thead>\n",
       "    <tr style=\"text-align: right;\">\n",
       "      <th></th>\n",
       "      <th>Index</th>\n",
       "      <th>interest_rate</th>\n",
       "      <th>credit</th>\n",
       "      <th>Gender</th>\n",
       "      <th>previous</th>\n",
       "      <th>duration</th>\n",
       "      <th>Churn</th>\n",
       "    </tr>\n",
       "  </thead>\n",
       "  <tbody>\n",
       "    <tr>\n",
       "      <th>0</th>\n",
       "      <td>0</td>\n",
       "      <td>1.334</td>\n",
       "      <td>0</td>\n",
       "      <td>1</td>\n",
       "      <td>0</td>\n",
       "      <td>117</td>\n",
       "      <td>no</td>\n",
       "    </tr>\n",
       "    <tr>\n",
       "      <th>1</th>\n",
       "      <td>1</td>\n",
       "      <td>0.767</td>\n",
       "      <td>0</td>\n",
       "      <td>0</td>\n",
       "      <td>1</td>\n",
       "      <td>274</td>\n",
       "      <td>yes</td>\n",
       "    </tr>\n",
       "    <tr>\n",
       "      <th>2</th>\n",
       "      <td>2</td>\n",
       "      <td>4.858</td>\n",
       "      <td>0</td>\n",
       "      <td>1</td>\n",
       "      <td>0</td>\n",
       "      <td>167</td>\n",
       "      <td>no</td>\n",
       "    </tr>\n",
       "    <tr>\n",
       "      <th>3</th>\n",
       "      <td>3</td>\n",
       "      <td>4.120</td>\n",
       "      <td>0</td>\n",
       "      <td>0</td>\n",
       "      <td>0</td>\n",
       "      <td>686</td>\n",
       "      <td>yes</td>\n",
       "    </tr>\n",
       "    <tr>\n",
       "      <th>4</th>\n",
       "      <td>4</td>\n",
       "      <td>4.856</td>\n",
       "      <td>0</td>\n",
       "      <td>1</td>\n",
       "      <td>0</td>\n",
       "      <td>159</td>\n",
       "      <td>no</td>\n",
       "    </tr>\n",
       "  </tbody>\n",
       "</table>\n",
       "</div>"
      ],
      "text/plain": [
       "   Index  interest_rate  credit  Gender  previous  duration Churn\n",
       "0      0          1.334       0       1         0       117    no\n",
       "1      1          0.767       0       0         1       274   yes\n",
       "2      2          4.858       0       1         0       167    no\n",
       "3      3          4.120       0       0         0       686   yes\n",
       "4      4          4.856       0       1         0       159    no"
      ]
     },
     "execution_count": 4,
     "metadata": {},
     "output_type": "execute_result"
    }
   ],
   "source": [
    "bank.head()"
   ]
  },
  {
   "cell_type": "code",
   "execution_count": null,
   "id": "dd624194",
   "metadata": {},
   "outputs": [],
   "source": [
    "#No need to handle outlier ,missing value,feature scaling -PCA will take care and also if any variable is not needed ,dont drop that \n",
    "#just delete non-significant values and PCA will determine which values are significant or non-significant"
   ]
  },
  {
   "cell_type": "code",
   "execution_count": 5,
   "id": "73c6711e",
   "metadata": {},
   "outputs": [],
   "source": [
    "#Converting dependent variable into 0 and 1\n",
    "bank['Churn']=bank['Churn'].astype('category')\n",
    "bank['Churn']=bank['Churn'].cat.codes"
   ]
  },
  {
   "cell_type": "code",
   "execution_count": 6,
   "id": "4a180145",
   "metadata": {},
   "outputs": [
    {
     "data": {
      "text/html": [
       "<div>\n",
       "<style scoped>\n",
       "    .dataframe tbody tr th:only-of-type {\n",
       "        vertical-align: middle;\n",
       "    }\n",
       "\n",
       "    .dataframe tbody tr th {\n",
       "        vertical-align: top;\n",
       "    }\n",
       "\n",
       "    .dataframe thead th {\n",
       "        text-align: right;\n",
       "    }\n",
       "</style>\n",
       "<table border=\"1\" class=\"dataframe\">\n",
       "  <thead>\n",
       "    <tr style=\"text-align: right;\">\n",
       "      <th></th>\n",
       "      <th>Index</th>\n",
       "      <th>interest_rate</th>\n",
       "      <th>credit</th>\n",
       "      <th>Gender</th>\n",
       "      <th>previous</th>\n",
       "      <th>duration</th>\n",
       "      <th>Churn</th>\n",
       "    </tr>\n",
       "  </thead>\n",
       "  <tbody>\n",
       "    <tr>\n",
       "      <th>0</th>\n",
       "      <td>0</td>\n",
       "      <td>1.334</td>\n",
       "      <td>0</td>\n",
       "      <td>1</td>\n",
       "      <td>0</td>\n",
       "      <td>117</td>\n",
       "      <td>0</td>\n",
       "    </tr>\n",
       "    <tr>\n",
       "      <th>1</th>\n",
       "      <td>1</td>\n",
       "      <td>0.767</td>\n",
       "      <td>0</td>\n",
       "      <td>0</td>\n",
       "      <td>1</td>\n",
       "      <td>274</td>\n",
       "      <td>1</td>\n",
       "    </tr>\n",
       "    <tr>\n",
       "      <th>2</th>\n",
       "      <td>2</td>\n",
       "      <td>4.858</td>\n",
       "      <td>0</td>\n",
       "      <td>1</td>\n",
       "      <td>0</td>\n",
       "      <td>167</td>\n",
       "      <td>0</td>\n",
       "    </tr>\n",
       "    <tr>\n",
       "      <th>3</th>\n",
       "      <td>3</td>\n",
       "      <td>4.120</td>\n",
       "      <td>0</td>\n",
       "      <td>0</td>\n",
       "      <td>0</td>\n",
       "      <td>686</td>\n",
       "      <td>1</td>\n",
       "    </tr>\n",
       "    <tr>\n",
       "      <th>4</th>\n",
       "      <td>4</td>\n",
       "      <td>4.856</td>\n",
       "      <td>0</td>\n",
       "      <td>1</td>\n",
       "      <td>0</td>\n",
       "      <td>159</td>\n",
       "      <td>0</td>\n",
       "    </tr>\n",
       "  </tbody>\n",
       "</table>\n",
       "</div>"
      ],
      "text/plain": [
       "   Index  interest_rate  credit  Gender  previous  duration  Churn\n",
       "0      0          1.334       0       1         0       117      0\n",
       "1      1          0.767       0       0         1       274      1\n",
       "2      2          4.858       0       1         0       167      0\n",
       "3      3          4.120       0       0         0       686      1\n",
       "4      4          4.856       0       1         0       159      0"
      ]
     },
     "execution_count": 6,
     "metadata": {},
     "output_type": "execute_result"
    }
   ],
   "source": [
    "bank.head()"
   ]
  },
  {
   "cell_type": "code",
   "execution_count": null,
   "id": "bd1f470c",
   "metadata": {},
   "outputs": [],
   "source": [
    "#Splitting the data into x and y"
   ]
  },
  {
   "cell_type": "code",
   "execution_count": 7,
   "id": "b76d994e",
   "metadata": {},
   "outputs": [],
   "source": [
    "x=bank.drop(['Churn'],axis=1)"
   ]
  },
  {
   "cell_type": "code",
   "execution_count": 8,
   "id": "d619797d",
   "metadata": {},
   "outputs": [],
   "source": [
    "y=bank['Churn']"
   ]
  },
  {
   "cell_type": "code",
   "execution_count": 9,
   "id": "aedb1eaa",
   "metadata": {},
   "outputs": [
    {
     "data": {
      "text/html": [
       "<div>\n",
       "<style scoped>\n",
       "    .dataframe tbody tr th:only-of-type {\n",
       "        vertical-align: middle;\n",
       "    }\n",
       "\n",
       "    .dataframe tbody tr th {\n",
       "        vertical-align: top;\n",
       "    }\n",
       "\n",
       "    .dataframe thead th {\n",
       "        text-align: right;\n",
       "    }\n",
       "</style>\n",
       "<table border=\"1\" class=\"dataframe\">\n",
       "  <thead>\n",
       "    <tr style=\"text-align: right;\">\n",
       "      <th></th>\n",
       "      <th>Index</th>\n",
       "      <th>interest_rate</th>\n",
       "      <th>credit</th>\n",
       "      <th>Gender</th>\n",
       "      <th>previous</th>\n",
       "      <th>duration</th>\n",
       "    </tr>\n",
       "  </thead>\n",
       "  <tbody>\n",
       "    <tr>\n",
       "      <th>0</th>\n",
       "      <td>0</td>\n",
       "      <td>1.334</td>\n",
       "      <td>0</td>\n",
       "      <td>1</td>\n",
       "      <td>0</td>\n",
       "      <td>117</td>\n",
       "    </tr>\n",
       "    <tr>\n",
       "      <th>1</th>\n",
       "      <td>1</td>\n",
       "      <td>0.767</td>\n",
       "      <td>0</td>\n",
       "      <td>0</td>\n",
       "      <td>1</td>\n",
       "      <td>274</td>\n",
       "    </tr>\n",
       "    <tr>\n",
       "      <th>2</th>\n",
       "      <td>2</td>\n",
       "      <td>4.858</td>\n",
       "      <td>0</td>\n",
       "      <td>1</td>\n",
       "      <td>0</td>\n",
       "      <td>167</td>\n",
       "    </tr>\n",
       "    <tr>\n",
       "      <th>3</th>\n",
       "      <td>3</td>\n",
       "      <td>4.120</td>\n",
       "      <td>0</td>\n",
       "      <td>0</td>\n",
       "      <td>0</td>\n",
       "      <td>686</td>\n",
       "    </tr>\n",
       "    <tr>\n",
       "      <th>4</th>\n",
       "      <td>4</td>\n",
       "      <td>4.856</td>\n",
       "      <td>0</td>\n",
       "      <td>1</td>\n",
       "      <td>0</td>\n",
       "      <td>159</td>\n",
       "    </tr>\n",
       "  </tbody>\n",
       "</table>\n",
       "</div>"
      ],
      "text/plain": [
       "   Index  interest_rate  credit  Gender  previous  duration\n",
       "0      0          1.334       0       1         0       117\n",
       "1      1          0.767       0       0         1       274\n",
       "2      2          4.858       0       1         0       167\n",
       "3      3          4.120       0       0         0       686\n",
       "4      4          4.856       0       1         0       159"
      ]
     },
     "execution_count": 9,
     "metadata": {},
     "output_type": "execute_result"
    }
   ],
   "source": [
    "x.head()"
   ]
  },
  {
   "cell_type": "code",
   "execution_count": 10,
   "id": "7000ba8f",
   "metadata": {},
   "outputs": [
    {
     "data": {
      "text/plain": [
       "0    0\n",
       "1    1\n",
       "2    0\n",
       "3    1\n",
       "4    0\n",
       "Name: Churn, dtype: int8"
      ]
     },
     "execution_count": 10,
     "metadata": {},
     "output_type": "execute_result"
    }
   ],
   "source": [
    "y.head()"
   ]
  },
  {
   "cell_type": "code",
   "execution_count": 11,
   "id": "45b47472",
   "metadata": {},
   "outputs": [],
   "source": [
    "#Splitting data into train and test\n",
    "from sklearn.model_selection import train_test_split\n",
    "x_train,x_test,y_train,y_test=train_test_split(x,y,train_size=0.75,random_state=101)"
   ]
  },
  {
   "cell_type": "code",
   "execution_count": 12,
   "id": "e43133c8",
   "metadata": {},
   "outputs": [
    {
     "data": {
      "text/plain": [
       "LogisticRegression()"
      ]
     },
     "execution_count": 12,
     "metadata": {},
     "output_type": "execute_result"
    }
   ],
   "source": [
    "#Logistic Regression\n",
    "from sklearn.linear_model import LogisticRegression\n",
    "logit=LogisticRegression()\n",
    "logit.fit(x_train,y_train)"
   ]
  },
  {
   "cell_type": "code",
   "execution_count": 13,
   "id": "3a9d70e5",
   "metadata": {},
   "outputs": [],
   "source": [
    "y_pred_logit_test=logit.predict(x_test)"
   ]
  },
  {
   "cell_type": "code",
   "execution_count": 14,
   "id": "c4324cd8",
   "metadata": {},
   "outputs": [],
   "source": [
    "#Evaluation\n",
    "from sklearn.metrics import classification_report,confusion_matrix,accuracy_score"
   ]
  },
  {
   "cell_type": "code",
   "execution_count": 15,
   "id": "d741d9ee",
   "metadata": {},
   "outputs": [
    {
     "name": "stdout",
     "output_type": "stream",
     "text": [
      "              precision    recall  f1-score   support\n",
      "\n",
      "           0       0.85      0.86      0.86        66\n",
      "           1       0.86      0.84      0.85        64\n",
      "\n",
      "    accuracy                           0.85       130\n",
      "   macro avg       0.85      0.85      0.85       130\n",
      "weighted avg       0.85      0.85      0.85       130\n",
      "\n"
     ]
    }
   ],
   "source": [
    "print(classification_report(y_test,y_pred_logit_test))"
   ]
  },
  {
   "cell_type": "code",
   "execution_count": 16,
   "id": "1df021f6",
   "metadata": {},
   "outputs": [
    {
     "name": "stdout",
     "output_type": "stream",
     "text": [
      "[[57  9]\n",
      " [10 54]]\n"
     ]
    }
   ],
   "source": [
    "print(confusion_matrix(y_test,y_pred_logit_test))"
   ]
  },
  {
   "cell_type": "code",
   "execution_count": 17,
   "id": "350183e9",
   "metadata": {},
   "outputs": [
    {
     "name": "stdout",
     "output_type": "stream",
     "text": [
      "0.8538461538461538\n"
     ]
    }
   ],
   "source": [
    "print(accuracy_score(y_test,y_pred_logit_test))"
   ]
  },
  {
   "cell_type": "code",
   "execution_count": null,
   "id": "226427ca",
   "metadata": {},
   "outputs": [],
   "source": [
    "#Without doing any preprocessing and PCA ,here accuracy is 85.3% "
   ]
  },
  {
   "cell_type": "code",
   "execution_count": null,
   "id": "8f0b7788",
   "metadata": {},
   "outputs": [],
   "source": [
    "#Here so many non significant variables like Index,outlier etc"
   ]
  },
  {
   "cell_type": "code",
   "execution_count": null,
   "id": "7f5955f2",
   "metadata": {},
   "outputs": [],
   "source": [
    "#Principal Component Analysis"
   ]
  },
  {
   "cell_type": "code",
   "execution_count": 18,
   "id": "182b55b3",
   "metadata": {},
   "outputs": [],
   "source": [
    "from sklearn.decomposition import PCA\n",
    "pca=PCA(n_components=None)\n",
    "x_train_n=pca.fit_transform(x_train)\n",
    "x_test_n=pca.fit_transform(x_test)"
   ]
  },
  {
   "cell_type": "code",
   "execution_count": 19,
   "id": "f2ee4371",
   "metadata": {},
   "outputs": [
    {
     "data": {
      "text/plain": [
       "array([[-2.93378624e+02,  1.75880375e+02,  1.20450607e+00,\n",
       "        -2.17952821e-01, -5.86169904e-02, -6.43952806e-02],\n",
       "       [ 7.45993427e+01,  2.80611960e+00, -1.36133278e+00,\n",
       "        -2.39815581e-01, -2.75379051e-01, -6.54049847e-02],\n",
       "       [ 6.71224555e+01, -1.29723788e+02, -1.78564425e+00,\n",
       "        -4.02307304e-01,  6.60349989e-01, -7.18312246e-02],\n",
       "       ...,\n",
       "       [-1.70538962e+02, -1.42453138e+02, -1.98178359e+00,\n",
       "        -2.29513539e-01, -3.44537504e-01, -6.34838765e-02],\n",
       "       [-2.64117844e+02,  1.71315922e+02, -1.66158580e+00,\n",
       "         7.78327477e-01, -1.06204628e-01, -5.62070746e-02],\n",
       "       [-1.54322261e+02, -8.55844804e+01, -1.32132983e+00,\n",
       "        -2.30250412e-01, -2.87148059e-01, -6.11096622e-02]])"
      ]
     },
     "execution_count": 19,
     "metadata": {},
     "output_type": "execute_result"
    }
   ],
   "source": [
    "x_train_n"
   ]
  },
  {
   "cell_type": "code",
   "execution_count": 20,
   "id": "fdc0e6e0",
   "metadata": {},
   "outputs": [
    {
     "data": {
      "text/html": [
       "<div>\n",
       "<style scoped>\n",
       "    .dataframe tbody tr th:only-of-type {\n",
       "        vertical-align: middle;\n",
       "    }\n",
       "\n",
       "    .dataframe tbody tr th {\n",
       "        vertical-align: top;\n",
       "    }\n",
       "\n",
       "    .dataframe thead th {\n",
       "        text-align: right;\n",
       "    }\n",
       "</style>\n",
       "<table border=\"1\" class=\"dataframe\">\n",
       "  <thead>\n",
       "    <tr style=\"text-align: right;\">\n",
       "      <th></th>\n",
       "      <th>0</th>\n",
       "      <th>1</th>\n",
       "      <th>2</th>\n",
       "      <th>3</th>\n",
       "      <th>4</th>\n",
       "      <th>5</th>\n",
       "    </tr>\n",
       "  </thead>\n",
       "  <tbody>\n",
       "    <tr>\n",
       "      <th>0</th>\n",
       "      <td>-293.378624</td>\n",
       "      <td>175.880375</td>\n",
       "      <td>1.204506</td>\n",
       "      <td>-0.217953</td>\n",
       "      <td>-0.058617</td>\n",
       "      <td>-0.064395</td>\n",
       "    </tr>\n",
       "    <tr>\n",
       "      <th>1</th>\n",
       "      <td>74.599343</td>\n",
       "      <td>2.806120</td>\n",
       "      <td>-1.361333</td>\n",
       "      <td>-0.239816</td>\n",
       "      <td>-0.275379</td>\n",
       "      <td>-0.065405</td>\n",
       "    </tr>\n",
       "    <tr>\n",
       "      <th>2</th>\n",
       "      <td>67.122455</td>\n",
       "      <td>-129.723788</td>\n",
       "      <td>-1.785644</td>\n",
       "      <td>-0.402307</td>\n",
       "      <td>0.660350</td>\n",
       "      <td>-0.071831</td>\n",
       "    </tr>\n",
       "    <tr>\n",
       "      <th>3</th>\n",
       "      <td>245.440861</td>\n",
       "      <td>10.235364</td>\n",
       "      <td>-2.157012</td>\n",
       "      <td>-0.246891</td>\n",
       "      <td>-0.331914</td>\n",
       "      <td>-0.071690</td>\n",
       "    </tr>\n",
       "    <tr>\n",
       "      <th>4</th>\n",
       "      <td>15.697036</td>\n",
       "      <td>39.948247</td>\n",
       "      <td>-1.234058</td>\n",
       "      <td>-0.283169</td>\n",
       "      <td>-0.248414</td>\n",
       "      <td>0.928485</td>\n",
       "    </tr>\n",
       "    <tr>\n",
       "      <th>...</th>\n",
       "      <td>...</td>\n",
       "      <td>...</td>\n",
       "      <td>...</td>\n",
       "      <td>...</td>\n",
       "      <td>...</td>\n",
       "      <td>...</td>\n",
       "    </tr>\n",
       "    <tr>\n",
       "      <th>383</th>\n",
       "      <td>-32.672437</td>\n",
       "      <td>147.695008</td>\n",
       "      <td>-1.237047</td>\n",
       "      <td>-0.431870</td>\n",
       "      <td>0.760952</td>\n",
       "      <td>0.895611</td>\n",
       "    </tr>\n",
       "    <tr>\n",
       "      <th>384</th>\n",
       "      <td>601.721110</td>\n",
       "      <td>-27.248123</td>\n",
       "      <td>2.193456</td>\n",
       "      <td>-0.289801</td>\n",
       "      <td>-0.029500</td>\n",
       "      <td>0.005303</td>\n",
       "    </tr>\n",
       "    <tr>\n",
       "      <th>385</th>\n",
       "      <td>-170.538962</td>\n",
       "      <td>-142.453138</td>\n",
       "      <td>-1.981784</td>\n",
       "      <td>-0.229514</td>\n",
       "      <td>-0.344538</td>\n",
       "      <td>-0.063484</td>\n",
       "    </tr>\n",
       "    <tr>\n",
       "      <th>386</th>\n",
       "      <td>-264.117844</td>\n",
       "      <td>171.315922</td>\n",
       "      <td>-1.661586</td>\n",
       "      <td>0.778327</td>\n",
       "      <td>-0.106205</td>\n",
       "      <td>-0.056207</td>\n",
       "    </tr>\n",
       "    <tr>\n",
       "      <th>387</th>\n",
       "      <td>-154.322261</td>\n",
       "      <td>-85.584480</td>\n",
       "      <td>-1.321330</td>\n",
       "      <td>-0.230250</td>\n",
       "      <td>-0.287148</td>\n",
       "      <td>-0.061110</td>\n",
       "    </tr>\n",
       "  </tbody>\n",
       "</table>\n",
       "<p>388 rows × 6 columns</p>\n",
       "</div>"
      ],
      "text/plain": [
       "              0           1         2         3         4         5\n",
       "0   -293.378624  175.880375  1.204506 -0.217953 -0.058617 -0.064395\n",
       "1     74.599343    2.806120 -1.361333 -0.239816 -0.275379 -0.065405\n",
       "2     67.122455 -129.723788 -1.785644 -0.402307  0.660350 -0.071831\n",
       "3    245.440861   10.235364 -2.157012 -0.246891 -0.331914 -0.071690\n",
       "4     15.697036   39.948247 -1.234058 -0.283169 -0.248414  0.928485\n",
       "..          ...         ...       ...       ...       ...       ...\n",
       "383  -32.672437  147.695008 -1.237047 -0.431870  0.760952  0.895611\n",
       "384  601.721110  -27.248123  2.193456 -0.289801 -0.029500  0.005303\n",
       "385 -170.538962 -142.453138 -1.981784 -0.229514 -0.344538 -0.063484\n",
       "386 -264.117844  171.315922 -1.661586  0.778327 -0.106205 -0.056207\n",
       "387 -154.322261  -85.584480 -1.321330 -0.230250 -0.287148 -0.061110\n",
       "\n",
       "[388 rows x 6 columns]"
      ]
     },
     "execution_count": 20,
     "metadata": {},
     "output_type": "execute_result"
    }
   ],
   "source": [
    "pd.DataFrame(x_train_n)"
   ]
  },
  {
   "cell_type": "code",
   "execution_count": 21,
   "id": "55556d35",
   "metadata": {},
   "outputs": [],
   "source": [
    "explained_variance=pca.explained_variance_ratio_"
   ]
  },
  {
   "cell_type": "code",
   "execution_count": 22,
   "id": "9884dc90",
   "metadata": {},
   "outputs": [
    {
     "data": {
      "text/plain": [
       "array([8.07144870e-01, 1.92823493e-01, 2.92532511e-05, 1.52261165e-06,\n",
       "       6.96408766e-07, 1.64823601e-07])"
      ]
     },
     "execution_count": 22,
     "metadata": {},
     "output_type": "execute_result"
    }
   ],
   "source": [
    "explained_variance#more the value that much significant that slice or column is"
   ]
  },
  {
   "cell_type": "code",
   "execution_count": null,
   "id": "9ca54566",
   "metadata": {},
   "outputs": [],
   "source": [
    "#first slice giving ~80.7%\n",
    "#second slice giving ~19.2%\n",
    "#third slice giving (non-significant)\n",
    "#fourth slice giving(non-significant)\n",
    "#fifth slice giving (non-significant)\n",
    "#sixth slice giving (non-significant)\n"
   ]
  },
  {
   "cell_type": "code",
   "execution_count": 23,
   "id": "1c4671be",
   "metadata": {},
   "outputs": [],
   "source": [
    "pca=PCA(n_components=2)\n",
    "x_train_2=pca.fit_transform(x_train)\n",
    "x_test_2=pca.fit_transform(x_test)"
   ]
  },
  {
   "cell_type": "code",
   "execution_count": 24,
   "id": "afcafc78",
   "metadata": {},
   "outputs": [
    {
     "data": {
      "text/html": [
       "<div>\n",
       "<style scoped>\n",
       "    .dataframe tbody tr th:only-of-type {\n",
       "        vertical-align: middle;\n",
       "    }\n",
       "\n",
       "    .dataframe tbody tr th {\n",
       "        vertical-align: top;\n",
       "    }\n",
       "\n",
       "    .dataframe thead th {\n",
       "        text-align: right;\n",
       "    }\n",
       "</style>\n",
       "<table border=\"1\" class=\"dataframe\">\n",
       "  <thead>\n",
       "    <tr style=\"text-align: right;\">\n",
       "      <th></th>\n",
       "      <th>0</th>\n",
       "      <th>1</th>\n",
       "    </tr>\n",
       "  </thead>\n",
       "  <tbody>\n",
       "    <tr>\n",
       "      <th>0</th>\n",
       "      <td>-293.378624</td>\n",
       "      <td>175.880375</td>\n",
       "    </tr>\n",
       "    <tr>\n",
       "      <th>1</th>\n",
       "      <td>74.599343</td>\n",
       "      <td>2.806120</td>\n",
       "    </tr>\n",
       "    <tr>\n",
       "      <th>2</th>\n",
       "      <td>67.122455</td>\n",
       "      <td>-129.723788</td>\n",
       "    </tr>\n",
       "    <tr>\n",
       "      <th>3</th>\n",
       "      <td>245.440861</td>\n",
       "      <td>10.235364</td>\n",
       "    </tr>\n",
       "    <tr>\n",
       "      <th>4</th>\n",
       "      <td>15.697036</td>\n",
       "      <td>39.948247</td>\n",
       "    </tr>\n",
       "    <tr>\n",
       "      <th>...</th>\n",
       "      <td>...</td>\n",
       "      <td>...</td>\n",
       "    </tr>\n",
       "    <tr>\n",
       "      <th>383</th>\n",
       "      <td>-32.672437</td>\n",
       "      <td>147.695008</td>\n",
       "    </tr>\n",
       "    <tr>\n",
       "      <th>384</th>\n",
       "      <td>601.721110</td>\n",
       "      <td>-27.248123</td>\n",
       "    </tr>\n",
       "    <tr>\n",
       "      <th>385</th>\n",
       "      <td>-170.538962</td>\n",
       "      <td>-142.453138</td>\n",
       "    </tr>\n",
       "    <tr>\n",
       "      <th>386</th>\n",
       "      <td>-264.117844</td>\n",
       "      <td>171.315922</td>\n",
       "    </tr>\n",
       "    <tr>\n",
       "      <th>387</th>\n",
       "      <td>-154.322261</td>\n",
       "      <td>-85.584480</td>\n",
       "    </tr>\n",
       "  </tbody>\n",
       "</table>\n",
       "<p>388 rows × 2 columns</p>\n",
       "</div>"
      ],
      "text/plain": [
       "              0           1\n",
       "0   -293.378624  175.880375\n",
       "1     74.599343    2.806120\n",
       "2     67.122455 -129.723788\n",
       "3    245.440861   10.235364\n",
       "4     15.697036   39.948247\n",
       "..          ...         ...\n",
       "383  -32.672437  147.695008\n",
       "384  601.721110  -27.248123\n",
       "385 -170.538962 -142.453138\n",
       "386 -264.117844  171.315922\n",
       "387 -154.322261  -85.584480\n",
       "\n",
       "[388 rows x 2 columns]"
      ]
     },
     "execution_count": 24,
     "metadata": {},
     "output_type": "execute_result"
    }
   ],
   "source": [
    "pd.DataFrame(x_train_2)"
   ]
  },
  {
   "cell_type": "code",
   "execution_count": 25,
   "id": "a445826d",
   "metadata": {},
   "outputs": [
    {
     "data": {
      "text/plain": [
       "LogisticRegression()"
      ]
     },
     "execution_count": 25,
     "metadata": {},
     "output_type": "execute_result"
    }
   ],
   "source": [
    "#Now Build Model\n",
    "logit_1=LogisticRegression()\n",
    "logit_1.fit(x_train_2,y_train)"
   ]
  },
  {
   "cell_type": "code",
   "execution_count": 26,
   "id": "f3a0c016",
   "metadata": {},
   "outputs": [],
   "source": [
    "y_pred_pca_logit1=logit_1.predict(x_test_2)"
   ]
  },
  {
   "cell_type": "code",
   "execution_count": 33,
   "id": "6cf2c19a",
   "metadata": {},
   "outputs": [],
   "source": [
    "y_pred_pca_logit1_train=logit_1.predict(x_train_2)"
   ]
  },
  {
   "cell_type": "code",
   "execution_count": 35,
   "id": "1d710c13",
   "metadata": {},
   "outputs": [
    {
     "name": "stdout",
     "output_type": "stream",
     "text": [
      "0.6804123711340206\n"
     ]
    }
   ],
   "source": [
    "print(accuracy_score(y_train,y_pred_pca_logit1_train))"
   ]
  },
  {
   "cell_type": "code",
   "execution_count": 28,
   "id": "c193f8cb",
   "metadata": {},
   "outputs": [
    {
     "name": "stdout",
     "output_type": "stream",
     "text": [
      "0.7384615384615385\n"
     ]
    }
   ],
   "source": [
    "print(accuracy_score(y_test,y_pred_pca_logit1))#Accuracy reduced becuae 80%of the information we removed because of PCA"
   ]
  },
  {
   "cell_type": "code",
   "execution_count": 45,
   "id": "9c2d62c6",
   "metadata": {},
   "outputs": [
    {
     "name": "stdout",
     "output_type": "stream",
     "text": [
      "0.8205128205128205\n",
      "####################################################################################################\n",
      "0.9230769230769231\n"
     ]
    }
   ],
   "source": [
    "#To improve accuracy-K-fold method\n",
    "from sklearn.model_selection import cross_val_score\n",
    "accuracy_train=cross_val_score(logit_1,x_train_2,y_train,cv=10)\n",
    "accuracy_test=cross_val_score(logit_1,x_test_2,y_test,cv=10)\n",
    "print(accuracy_train[7])\n",
    "print(\"#####\"*20)\n",
    "print(accuracy_test[6])"
   ]
  },
  {
   "cell_type": "code",
   "execution_count": null,
   "id": "a7030ea7",
   "metadata": {},
   "outputs": [],
   "source": []
  },
  {
   "cell_type": "code",
   "execution_count": null,
   "id": "d73dbc48",
   "metadata": {},
   "outputs": [],
   "source": [
    "#Naive Bayes Theorem"
   ]
  },
  {
   "cell_type": "code",
   "execution_count": 46,
   "id": "45a42eb8",
   "metadata": {},
   "outputs": [],
   "source": [
    "from sklearn.naive_bayes import GaussianNB"
   ]
  },
  {
   "cell_type": "code",
   "execution_count": 47,
   "id": "c89be526",
   "metadata": {},
   "outputs": [
    {
     "data": {
      "text/plain": [
       "GaussianNB()"
      ]
     },
     "execution_count": 47,
     "metadata": {},
     "output_type": "execute_result"
    }
   ],
   "source": [
    "classifier_nb=GaussianNB()\n",
    "classifier_nb.fit(x_train_2,y_train)"
   ]
  },
  {
   "cell_type": "code",
   "execution_count": 48,
   "id": "4f17cd17",
   "metadata": {},
   "outputs": [],
   "source": [
    "y_pred_nb=classifier_nb.predict(x_test_2)"
   ]
  },
  {
   "cell_type": "code",
   "execution_count": 49,
   "id": "a2f41b0c",
   "metadata": {},
   "outputs": [
    {
     "name": "stdout",
     "output_type": "stream",
     "text": [
      "0.676923076923077\n"
     ]
    }
   ],
   "source": [
    "print(accuracy_score(y_test,y_pred_nb))"
   ]
  },
  {
   "cell_type": "code",
   "execution_count": null,
   "id": "0aa52927",
   "metadata": {},
   "outputs": [],
   "source": [
    "#K-fold "
   ]
  },
  {
   "cell_type": "code",
   "execution_count": 61,
   "id": "bbe93637",
   "metadata": {},
   "outputs": [],
   "source": [
    "accuracy_nb=cross_val_score(classifier_nb,x_test_2,y_test,cv=15)"
   ]
  },
  {
   "cell_type": "code",
   "execution_count": 63,
   "id": "2e08020c",
   "metadata": {},
   "outputs": [
    {
     "name": "stdout",
     "output_type": "stream",
     "text": [
      "0.8888888888888888\n"
     ]
    }
   ],
   "source": [
    "print(accuracy_nb[8])"
   ]
  },
  {
   "cell_type": "code",
   "execution_count": null,
   "id": "6e9d6aa8",
   "metadata": {},
   "outputs": [],
   "source": []
  }
 ],
 "metadata": {
  "kernelspec": {
   "display_name": "Python 3 (ipykernel)",
   "language": "python",
   "name": "python3"
  },
  "language_info": {
   "codemirror_mode": {
    "name": "ipython",
    "version": 3
   },
   "file_extension": ".py",
   "mimetype": "text/x-python",
   "name": "python",
   "nbconvert_exporter": "python",
   "pygments_lexer": "ipython3",
   "version": "3.9.7"
  }
 },
 "nbformat": 4,
 "nbformat_minor": 5
}
